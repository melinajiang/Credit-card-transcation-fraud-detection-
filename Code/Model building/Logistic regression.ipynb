{
 "cells": [
  {
   "cell_type": "code",
   "execution_count": 144,
   "metadata": {},
   "outputs": [],
   "source": [
    "import pandas as pd\n",
    "import numpy as np\n",
    "from sklearn.model_selection import train_test_split\n",
    "from sklearn.linear_model import LogisticRegression \n",
    "import warnings\n",
    "warnings.filterwarnings('ignore')"
   ]
  },
  {
   "cell_type": "code",
   "execution_count": 145,
   "metadata": {},
   "outputs": [],
   "source": [
    "df= pd.read_csv('final_selected_variables.csv')"
   ]
  },
  {
   "cell_type": "code",
   "execution_count": 146,
   "metadata": {},
   "outputs": [],
   "source": [
    "df1 = df[(df.Recnum <=84299) & (df.Recnum >= 3338)]\n",
    "df2 = df[df.Recnum >= 84300]\n",
    "df1 = df1.set_index('Recnum')\n",
    "df2 = df2.set_index('Recnum')\n",
    "X = df1.drop(['Fraud', 'Unnamed: 0'], axis = 1)\n",
    "Y = df1['Fraud']\n",
    "x_oot = df2.drop(['Fraud', 'Unnamed: 0'], axis = 1)\n",
    "y_oot = df2['Fraud']\n",
    "x_train,x_test,y_train,y_test = train_test_split(X,Y,test_size = 0.3)"
   ]
  },
  {
   "cell_type": "code",
   "execution_count": 147,
   "metadata": {},
   "outputs": [],
   "source": [
    "x_train.to_csv('train_x.csv',index=True, header=True)\n",
    "x_test.to_csv('test_x.csv',index=True, header=True)\n",
    "x_oot.to_csv('oot_x.csv',index=True, header=True)\n",
    "y_train.to_csv('train_y.csv',index=True, header=True)\n",
    "y_test.to_csv('test_y.csv',index=True, header=True)\n",
    "y_oot.to_csv('oot_y.csv',index=True, header=True)"
   ]
  },
  {
   "cell_type": "markdown",
   "metadata": {},
   "source": [
    "### Logistic Regression"
   ]
  },
  {
   "cell_type": "code",
   "execution_count": 148,
   "metadata": {},
   "outputs": [],
   "source": [
    "lr = LogisticRegression(solver = 'liblinear',max_iter = 1000)"
   ]
  },
  {
   "cell_type": "code",
   "execution_count": 149,
   "metadata": {},
   "outputs": [
    {
     "data": {
      "text/plain": [
       "LogisticRegression(C=1.0, class_weight=None, dual=False, fit_intercept=True,\n",
       "                   intercept_scaling=1, l1_ratio=None, max_iter=1000,\n",
       "                   multi_class='warn', n_jobs=None, penalty='l2',\n",
       "                   random_state=None, solver='liblinear', tol=0.0001, verbose=0,\n",
       "                   warm_start=False)"
      ]
     },
     "execution_count": 149,
     "metadata": {},
     "output_type": "execute_result"
    }
   ],
   "source": [
    "lr.fit(x_train,y_train)"
   ]
  },
  {
   "cell_type": "code",
   "execution_count": 150,
   "metadata": {},
   "outputs": [],
   "source": [
    "y_train_pred = lr.predict_proba(x_train)[:,1]"
   ]
  },
  {
   "cell_type": "code",
   "execution_count": 151,
   "metadata": {},
   "outputs": [
    {
     "data": {
      "text/plain": [
       "array([0.00279667, 0.00195871, 0.00354005, ..., 0.0051212 , 0.00068419,\n",
       "       0.00266347])"
      ]
     },
     "execution_count": 151,
     "metadata": {},
     "output_type": "execute_result"
    }
   ],
   "source": [
    "y_train_pred"
   ]
  },
  {
   "cell_type": "code",
   "execution_count": 152,
   "metadata": {},
   "outputs": [],
   "source": [
    "def FDR(x,y,model):\n",
    "    pred = model.predict_proba(x)[:,1]\n",
    "    y_df = pd.DataFrame(y)\n",
    "    y_df['pred'] = pred\n",
    "    top = int(len(y_df) * 0.03)\n",
    "    numbads = sum(y_df['Fraud'] == 1)\n",
    "    fdr = y_df.sort_values(by = 'pred', ascending = False).head(top).Fraud.sum()/numbads\n",
    "    return fdr"
   ]
  },
  {
   "cell_type": "code",
   "execution_count": 153,
   "metadata": {},
   "outputs": [
    {
     "data": {
      "text/plain": [
       "0.6671974522292994"
      ]
     },
     "execution_count": 153,
     "metadata": {},
     "output_type": "execute_result"
    }
   ],
   "source": [
    "FDR(x_train,y_train,lr)"
   ]
  },
  {
   "cell_type": "code",
   "execution_count": 155,
   "metadata": {},
   "outputs": [
    {
     "name": "stdout",
     "output_type": "stream",
     "text": [
      "CPU times: user 9.56 s, sys: 493 ms, total: 10.1 s\n",
      "Wall time: 7.56 s\n"
     ]
    }
   ],
   "source": [
    "%%time\n",
    "lr_FDR = []\n",
    "\n",
    "solver=['newton-cg','lbfgs','liblinear','sag','saga',]\n",
    "\n",
    "for s in solver:\n",
    "    x_train = pd.read_csv('train_x.csv')\n",
    "    x_train = x_train.set_index('Recnum')\n",
    "    y_train = pd.read_csv('train_y.csv')\n",
    "    y_train = y_train.set_index('Recnum')\n",
    "    x_test = pd.read_csv('test_x.csv')\n",
    "    x_test = x_test.set_index('Recnum')\n",
    "    y_test = pd.read_csv('test_y.csv')\n",
    "    y_test = y_test.set_index('Recnum')\n",
    "    x_oot = pd.read_csv('oot_x.csv')\n",
    "    x_oot = x_oot.set_index('Recnum')\n",
    "    y_oot = pd.read_csv('oot_y.csv')\n",
    "    y_oot = y_oot.set_index('Recnum')\n",
    "\n",
    "    lr = LogisticRegression(solver = s)\n",
    "    lr.fit(x_train, y_train)\n",
    "    train_pred = lr.predict_proba(x_train)[:,1]\n",
    "    test_pred = lr.predict_proba(x_test)[:,1]\n",
    "    oot_pred = lr.predict_proba(x_oot)[:,1]\n",
    "            \n",
    "    # FDR train\n",
    "    train_data = x_train\n",
    "    train_data['Fraud'] = y_train\n",
    "    train_data['pred'] = train_pred\n",
    "    topRows = int(round(len(train_data)*0.03)) \n",
    "    temp = train_data.sort_values('pred', ascending = False).head(topRows)\n",
    "    needed = temp.loc[:,'Fraud']\n",
    "    FDR_train = sum(needed)/sum(train_data['Fraud'])\n",
    "\n",
    "    # FDR test\n",
    "    test_data = x_test\n",
    "    test_data['Fraud'] = y_test\n",
    "    test_data['pred'] = test_pred\n",
    "    topRows = int(round(len(test_data)*0.03)) \n",
    "    temp = test_data.sort_values('pred', ascending = False).head(topRows)\n",
    "    needed = temp.loc[:,'Fraud']\n",
    "    FDR_test = sum(needed)/sum(test_data['Fraud'])\n",
    "            \n",
    "    # FDR oot\n",
    "    oot_data = x_oot\n",
    "    oot_data['Fraud'] = y_oot\n",
    "    oot_data['pred'] = oot_pred\n",
    "    topRows = int(round(len(oot_data)*0.03)) \n",
    "    temp = oot_data.sort_values('pred', ascending = False).head(topRows)\n",
    "    needed = temp.loc[:,'Fraud']\n",
    "    FDR_oot = sum(needed)/sum(oot_data['Fraud'])\n",
    "\n",
    "    lr_FDR.append([s, FDR_train, FDR_test, FDR_oot])"
   ]
  },
  {
   "cell_type": "code",
   "execution_count": 156,
   "metadata": {},
   "outputs": [
    {
     "data": {
      "text/html": [
       "<div>\n",
       "<style scoped>\n",
       "    .dataframe tbody tr th:only-of-type {\n",
       "        vertical-align: middle;\n",
       "    }\n",
       "\n",
       "    .dataframe tbody tr th {\n",
       "        vertical-align: top;\n",
       "    }\n",
       "\n",
       "    .dataframe thead th {\n",
       "        text-align: right;\n",
       "    }\n",
       "</style>\n",
       "<table border=\"1\" class=\"dataframe\">\n",
       "  <thead>\n",
       "    <tr style=\"text-align: right;\">\n",
       "      <th></th>\n",
       "      <th>solver</th>\n",
       "      <th>train</th>\n",
       "      <th>test</th>\n",
       "      <th>oot</th>\n",
       "    </tr>\n",
       "  </thead>\n",
       "  <tbody>\n",
       "    <tr>\n",
       "      <td>0</td>\n",
       "      <td>newton-cg</td>\n",
       "      <td>0.667197</td>\n",
       "      <td>0.6875</td>\n",
       "      <td>0.346369</td>\n",
       "    </tr>\n",
       "    <tr>\n",
       "      <td>1</td>\n",
       "      <td>lbfgs</td>\n",
       "      <td>0.667197</td>\n",
       "      <td>0.6875</td>\n",
       "      <td>0.351955</td>\n",
       "    </tr>\n",
       "    <tr>\n",
       "      <td>2</td>\n",
       "      <td>liblinear</td>\n",
       "      <td>0.667197</td>\n",
       "      <td>0.6875</td>\n",
       "      <td>0.346369</td>\n",
       "    </tr>\n",
       "    <tr>\n",
       "      <td>3</td>\n",
       "      <td>sag</td>\n",
       "      <td>0.665605</td>\n",
       "      <td>0.6875</td>\n",
       "      <td>0.351955</td>\n",
       "    </tr>\n",
       "    <tr>\n",
       "      <td>4</td>\n",
       "      <td>saga</td>\n",
       "      <td>0.664013</td>\n",
       "      <td>0.6875</td>\n",
       "      <td>0.351955</td>\n",
       "    </tr>\n",
       "  </tbody>\n",
       "</table>\n",
       "</div>"
      ],
      "text/plain": [
       "      solver     train    test       oot\n",
       "0  newton-cg  0.667197  0.6875  0.346369\n",
       "1      lbfgs  0.667197  0.6875  0.351955\n",
       "2  liblinear  0.667197  0.6875  0.346369\n",
       "3        sag  0.665605  0.6875  0.351955\n",
       "4       saga  0.664013  0.6875  0.351955"
      ]
     },
     "execution_count": 156,
     "metadata": {},
     "output_type": "execute_result"
    }
   ],
   "source": [
    "lr_FDR = pd.DataFrame(lr_FDR, columns = ['solver', 'train', 'test', 'oot'])\n",
    "lr_FDR"
   ]
  },
  {
   "cell_type": "code",
   "execution_count": 142,
   "metadata": {},
   "outputs": [],
   "source": [
    "lr_FDR.to_excel('lr_FDR2.xlsx', index=True, header=True)"
   ]
  },
  {
   "cell_type": "code",
   "execution_count": null,
   "metadata": {},
   "outputs": [],
   "source": []
  }
 ],
 "metadata": {
  "kernelspec": {
   "display_name": "Python 3",
   "language": "python",
   "name": "python3"
  },
  "language_info": {
   "codemirror_mode": {
    "name": "ipython",
    "version": 3
   },
   "file_extension": ".py",
   "mimetype": "text/x-python",
   "name": "python",
   "nbconvert_exporter": "python",
   "pygments_lexer": "ipython3",
   "version": "3.7.4"
  }
 },
 "nbformat": 4,
 "nbformat_minor": 2
}
