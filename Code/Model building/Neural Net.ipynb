{
 "cells": [
  {
   "cell_type": "code",
   "execution_count": 1,
   "metadata": {},
   "outputs": [
    {
     "name": "stderr",
     "output_type": "stream",
     "text": [
      "Using TensorFlow backend.\n"
     ]
    }
   ],
   "source": [
    "import pandas as pd\n",
    "import tensorflow as tf\n",
    "from keras import backend as K\n",
    "import keras\n",
    "from keras.models import Sequential\n",
    "from keras.layers import Dense\n",
    "from sklearn.model_selection import train_test_split"
   ]
  },
  {
   "cell_type": "code",
   "execution_count": 2,
   "metadata": {},
   "outputs": [],
   "source": [
    "df = pd.read_csv('final_selected_variables.csv')"
   ]
  },
  {
   "cell_type": "code",
   "execution_count": 3,
   "metadata": {},
   "outputs": [],
   "source": [
    "#train data要去掉前两周(v.Recnum <=84299) & (v.Recnum >= 3338)\n",
    "df1 = df[(df.Recnum <=84299) & (df.Recnum >= 3338)]\n",
    "df2 = df[df.Recnum >= 84300]"
   ]
  },
  {
   "cell_type": "code",
   "execution_count": 4,
   "metadata": {},
   "outputs": [],
   "source": [
    "df1 = df1.set_index('Recnum')\n",
    "df2 = df2.set_index('Recnum')"
   ]
  },
  {
   "cell_type": "code",
   "execution_count": 5,
   "metadata": {},
   "outputs": [],
   "source": [
    "X = df1.drop(['Fraud', 'Unnamed: 0'], axis = 1)\n",
    "Y = df1['Fraud']"
   ]
  },
  {
   "cell_type": "code",
   "execution_count": 6,
   "metadata": {},
   "outputs": [],
   "source": [
    "x_oot = df2.drop(['Fraud', 'Unnamed: 0'], axis = 1)\n",
    "y_oot = df2['Fraud']"
   ]
  },
  {
   "cell_type": "code",
   "execution_count": 7,
   "metadata": {},
   "outputs": [],
   "source": [
    "x_train,x_test,y_train,y_test = train_test_split(X,Y,test_size = 0.3)"
   ]
  },
  {
   "cell_type": "code",
   "execution_count": 10,
   "metadata": {},
   "outputs": [],
   "source": [
    "from sklearn.metrics import roc_auc_score\n",
    "def auroc(y_true, y_pred):\n",
    "    return tf.py_function(roc_auc_score, (y_true, y_pred), tf.double)\n",
    "\n",
    "def FDR(x,y,model):\n",
    "    pred = model.predict(x)\n",
    "    y_df = pd.DataFrame(y)\n",
    "    y_df['pred'] = pred\n",
    "    top = int(len(y_df) * 0.03)\n",
    "    numbads = sum(y_df['Fraud'] == 1)\n",
    "    fdr = y_df.sort_values(by = 'pred', ascending = False).head(top).Fraud.sum()/numbads\n",
    "    return fdr"
   ]
  },
  {
   "cell_type": "markdown",
   "metadata": {},
   "source": [
    "### Zscale"
   ]
  },
  {
   "cell_type": "code",
   "execution_count": 19,
   "metadata": {},
   "outputs": [],
   "source": [
    "from sklearn.preprocessing import StandardScaler\n",
    "scaler=StandardScaler()"
   ]
  },
  {
   "cell_type": "code",
   "execution_count": 180,
   "metadata": {},
   "outputs": [],
   "source": [
    "x_train=scaler.fit_transform(x_train.to_numpy())\n",
    "x_train=pd.DataFrame(x_train,columns=X.columns)"
   ]
  },
  {
   "cell_type": "code",
   "execution_count": 181,
   "metadata": {},
   "outputs": [],
   "source": [
    "x_test=scaler.fit_transform(x_test.to_numpy())\n",
    "x_test=pd.DataFrame(x_test,columns=X.columns)"
   ]
  },
  {
   "cell_type": "code",
   "execution_count": 182,
   "metadata": {},
   "outputs": [],
   "source": [
    "x_oot=scaler.fit_transform(x_oot.to_numpy())\n",
    "x_oot=pd.DataFrame(x_oot,columns=X.columns)"
   ]
  },
  {
   "cell_type": "code",
   "execution_count": 183,
   "metadata": {},
   "outputs": [
    {
     "data": {
      "text/plain": [
       "166493"
      ]
     },
     "execution_count": 183,
     "metadata": {},
     "output_type": "execute_result"
    }
   ],
   "source": [
    "len(x_oot)"
   ]
  },
  {
   "cell_type": "markdown",
   "metadata": {},
   "source": [
    "### clipping"
   ]
  },
  {
   "cell_type": "code",
   "execution_count": null,
   "metadata": {},
   "outputs": [],
   "source": [
    "for col in list(data.columns):\n",
    "    a = np.array(data[col].values.tolist())\n",
    "    data[col] = np.where(a > 9, 10, a).tolist()"
   ]
  },
  {
   "cell_type": "markdown",
   "metadata": {},
   "source": [
    "## Try-two hidden layer"
   ]
  },
  {
   "cell_type": "code",
   "execution_count": 366,
   "metadata": {},
   "outputs": [
    {
     "name": "stdout",
     "output_type": "stream",
     "text": [
      "Train on 56447 samples, validate on 24192 samples\n",
      "Epoch 1/10\n",
      "56447/56447 [==============================] - 0s 6us/step - loss: 0.1232 - accuracy: 0.9891 - auroc: 0.6556 - val_loss: 0.0935 - val_accuracy: 0.9902 - val_auroc: 0.7373\n",
      "Epoch 2/10\n",
      "56447/56447 [==============================] - 0s 3us/step - loss: 0.0777 - accuracy: 0.9892 - auroc: 0.8183 - val_loss: 0.0637 - val_accuracy: 0.9901 - val_auroc: 0.8461\n",
      "Epoch 3/10\n",
      "56447/56447 [==============================] - 0s 3us/step - loss: 0.0697 - accuracy: 0.9904 - auroc: 0.8294 - val_loss: 0.0638 - val_accuracy: 0.9897 - val_auroc: 0.8423\n",
      "Epoch 4/10\n",
      "56447/56447 [==============================] - 0s 3us/step - loss: 0.0679 - accuracy: 0.9903 - auroc: 0.8316 - val_loss: 0.0627 - val_accuracy: 0.9889 - val_auroc: 0.8584\n",
      "Epoch 5/10\n",
      "56447/56447 [==============================] - 0s 3us/step - loss: 0.0651 - accuracy: 0.9896 - auroc: 0.8596 - val_loss: 0.0618 - val_accuracy: 0.9901 - val_auroc: 0.8551\n",
      "Epoch 6/10\n",
      "56447/56447 [==============================] - 0s 3us/step - loss: 0.0631 - accuracy: 0.9898 - auroc: 0.8702 - val_loss: 0.0604 - val_accuracy: 0.9906 - val_auroc: 0.8659\n",
      "Epoch 7/10\n",
      "56447/56447 [==============================] - 0s 3us/step - loss: 0.0637 - accuracy: 0.9906 - auroc: 0.8463 - val_loss: 0.0613 - val_accuracy: 0.9910 - val_auroc: 0.8517\n",
      "Epoch 8/10\n",
      "56447/56447 [==============================] - 0s 3us/step - loss: 0.0603 - accuracy: 0.9906 - auroc: 0.8641 - val_loss: 0.0581 - val_accuracy: 0.9906 - val_auroc: 0.8717\n",
      "Epoch 9/10\n",
      "56447/56447 [==============================] - 0s 3us/step - loss: 0.0605 - accuracy: 0.9904 - auroc: 0.8622 - val_loss: 0.0615 - val_accuracy: 0.9910 - val_auroc: 0.8523\n",
      "Epoch 10/10\n",
      "56447/56447 [==============================] - 0s 3us/step - loss: 0.0593 - accuracy: 0.9906 - auroc: 0.8647 - val_loss: 0.0603 - val_accuracy: 0.9909 - val_auroc: 0.8567\n"
     ]
    }
   ],
   "source": [
    "import numpy as np\n",
    "model = np.nan\n",
    "keras.backend.clear_session()\n",
    "\n",
    "model = Sequential()\n",
    "model.add(Dense(12, input_dim=20, activation='relu'))\n",
    "model.add(Dense(16, activation='tanh'))\n",
    "model.add(Dense(1, activation='relu'))\n",
    "\n",
    "from sklearn.metrics import roc_auc_score\n",
    "def auroc(y_true, y_pred):\n",
    "    return tf.py_function(roc_auc_score, (y_true, y_pred), tf.double)\n",
    "\n",
    "model.compile(loss='binary_crossentropy', optimizer='adam', metrics=['accuracy', auroc])\n",
    "history = model.fit(x_train, y_train, epochs=10,validation_data=(x_test,y_test), batch_size=3200)"
   ]
  },
  {
   "cell_type": "code",
   "execution_count": 367,
   "metadata": {
    "scrolled": false
   },
   "outputs": [
    {
     "data": {
      "text/plain": [
       "0.5363128491620112"
      ]
     },
     "execution_count": 367,
     "metadata": {},
     "output_type": "execute_result"
    }
   ],
   "source": [
    "def FDR(x,y,model):\n",
    "    pred = model.predict(x)\n",
    "    y_df = pd.DataFrame(y)\n",
    "    y_df['pred'] = pred\n",
    "    top = int(len(y_df) * 0.03)\n",
    "    numbads = sum(y_df['Fraud'] == 1)\n",
    "    fdr = y_df.sort_values(by = 'pred', ascending = False).head(top).Fraud.sum()/numbads\n",
    "    return fdr\n",
    "fdr_oot = FDR(x_oot,y_oot,model)\n",
    "fdr_train = FDR(x_train,y_train,model)\n",
    "fdr_test = FDR(x_test,y_test,model)\n",
    "print(fdr_train, fdr_test, fdr_oot)"
   ]
  },
  {
   "cell_type": "code",
   "execution_count": 141,
   "metadata": {},
   "outputs": [],
   "source": [
    "pred = model.predict(x_train)"
   ]
  },
  {
   "cell_type": "code",
   "execution_count": 29,
   "metadata": {},
   "outputs": [
    {
     "data": {
      "text/plain": [
       "array([[0.09120809],\n",
       "       [0.08040944],\n",
       "       [0.03919488],\n",
       "       ...,\n",
       "       [0.11990654],\n",
       "       [0.11119711],\n",
       "       [0.13945006]], dtype=float32)"
      ]
     },
     "execution_count": 29,
     "metadata": {},
     "output_type": "execute_result"
    }
   ],
   "source": [
    "pred"
   ]
  },
  {
   "cell_type": "markdown",
   "metadata": {},
   "source": [
    "## another try-one hidden layer"
   ]
  },
  {
   "cell_type": "code",
   "execution_count": 392,
   "metadata": {},
   "outputs": [
    {
     "name": "stdout",
     "output_type": "stream",
     "text": [
      "Train on 56447 samples, validate on 24192 samples\n",
      "Epoch 1/15\n",
      "56447/56447 [==============================] - 0s 5us/step - loss: 0.1281 - accuracy: 0.9537 - auroc: 0.7140 - val_loss: 0.1254 - val_accuracy: 0.9579 - val_auroc: 0.7123\n",
      "Epoch 2/15\n",
      "56447/56447 [==============================] - 0s 3us/step - loss: 0.1173 - accuracy: 0.9577 - auroc: 0.6923 - val_loss: 0.1093 - val_accuracy: 0.9584 - val_auroc: 0.7185\n",
      "Epoch 3/15\n",
      "56447/56447 [==============================] - 0s 5us/step - loss: 0.0948 - accuracy: 0.9555 - auroc: 0.7798 - val_loss: 0.0858 - val_accuracy: 0.9540 - val_auroc: 0.8535\n",
      "Epoch 4/15\n",
      "56447/56447 [==============================] - 0s 4us/step - loss: 0.0892 - accuracy: 0.9518 - auroc: 0.8090 - val_loss: 0.0741 - val_accuracy: 0.9527 - val_auroc: 0.8452\n",
      "Epoch 5/15\n",
      "56447/56447 [==============================] - 0s 3us/step - loss: 0.0834 - accuracy: 0.9463 - auroc: 0.7781 - val_loss: 0.0802 - val_accuracy: 0.9449 - val_auroc: 0.8069\n",
      "Epoch 6/15\n",
      "56447/56447 [==============================] - 0s 3us/step - loss: 0.0858 - accuracy: 0.9393 - auroc: 0.7604 - val_loss: 0.0701 - val_accuracy: 0.9411 - val_auroc: 0.8430\n",
      "Epoch 7/15\n",
      "56447/56447 [==============================] - 0s 3us/step - loss: 0.0795 - accuracy: 0.9357 - auroc: 0.7953 - val_loss: 0.0700 - val_accuracy: 0.9364 - val_auroc: 0.8418\n",
      "Epoch 8/15\n",
      "56447/56447 [==============================] - 0s 3us/step - loss: 0.0797 - accuracy: 0.9312 - auroc: 0.7868 - val_loss: 0.0742 - val_accuracy: 0.9328 - val_auroc: 0.8315\n",
      "Epoch 9/15\n",
      "56447/56447 [==============================] - 0s 3us/step - loss: 0.0790 - accuracy: 0.9296 - auroc: 0.7931 - val_loss: 0.0745 - val_accuracy: 0.9324 - val_auroc: 0.8483\n",
      "Epoch 10/15\n",
      "56447/56447 [==============================] - 0s 3us/step - loss: 0.0801 - accuracy: 0.9283 - auroc: 0.7918 - val_loss: 0.0715 - val_accuracy: 0.9314 - val_auroc: 0.8379\n",
      "Epoch 11/15\n",
      "56447/56447 [==============================] - 0s 3us/step - loss: 0.0778 - accuracy: 0.9253 - auroc: 0.7831 - val_loss: 0.0747 - val_accuracy: 0.9282 - val_auroc: 0.8204\n",
      "Epoch 12/15\n",
      "56447/56447 [==============================] - 0s 3us/step - loss: 0.0784 - accuracy: 0.9227 - auroc: 0.7855 - val_loss: 0.0700 - val_accuracy: 0.9274 - val_auroc: 0.8399\n",
      "Epoch 13/15\n",
      "56447/56447 [==============================] - 0s 3us/step - loss: 0.0764 - accuracy: 0.9225 - auroc: 0.7830 - val_loss: 0.0691 - val_accuracy: 0.9255 - val_auroc: 0.8296\n",
      "Epoch 14/15\n",
      "56447/56447 [==============================] - 0s 3us/step - loss: 0.0769 - accuracy: 0.9201 - auroc: 0.7715 - val_loss: 0.0737 - val_accuracy: 0.9243 - val_auroc: 0.8114\n",
      "Epoch 15/15\n",
      "56447/56447 [==============================] - 0s 3us/step - loss: 0.0766 - accuracy: 0.9199 - auroc: 0.7632 - val_loss: 0.0704 - val_accuracy: 0.9259 - val_auroc: 0.8046\n"
     ]
    }
   ],
   "source": [
    "import numpy as np\n",
    "model = np.nan\n",
    "keras.backend.clear_session()\n",
    "model = Sequential()\n",
    "model.add(Dense(10, input_dim=20, activation='relu'))\n",
    "model.add(Dense(1, activation='tanh'))\n",
    "from sklearn.metrics import roc_auc_score\n",
    "def auroc(y_true, y_pred):\n",
    "    return tf.py_function(roc_auc_score, (y_true, y_pred), tf.double)\n",
    "model.compile(loss='binary_crossentropy', optimizer='adam', metrics=['accuracy', auroc])\n",
    "history = model.fit(x_train, y_train, epochs=15,validation_data=(x_test,y_test), batch_size=3200)"
   ]
  },
  {
   "cell_type": "code",
   "execution_count": 393,
   "metadata": {},
   "outputs": [
    {
     "name": "stdout",
     "output_type": "stream",
     "text": [
      "0.5798045602605864 0.594488188976378 0.5586592178770949\n"
     ]
    }
   ],
   "source": [
    "def FDR(x,y,model):\n",
    "    pred = model.predict(x)\n",
    "    y_df = pd.DataFrame(y)\n",
    "    y_df['pred'] = pred\n",
    "    top = int(len(y_df) * 0.03)\n",
    "    numbads = sum(y_df['Fraud'] == 1)\n",
    "    fdr = y_df.sort_values(by = 'pred', ascending = False).head(top).Fraud.sum()/numbads\n",
    "    return fdr\n",
    "fdr_oot = FDR(x_oot,y_oot,model)\n",
    "fdr_train = FDR(x_train,y_train,model)\n",
    "fdr_test = FDR(x_test,y_test,model)\n",
    "print(fdr_train, fdr_test, fdr_oot)"
   ]
  },
  {
   "cell_type": "markdown",
   "metadata": {},
   "source": [
    "## Loop to find the best parameters"
   ]
  },
  {
   "cell_type": "code",
   "execution_count": 132,
   "metadata": {},
   "outputs": [],
   "source": [
    "result = pd.DataFrame(columns = ['first_layer','second_layer', 'epoch','batchsize','train_fdr','test_fdr','oot_fdr' ])"
   ]
  },
  {
   "cell_type": "code",
   "execution_count": 133,
   "metadata": {},
   "outputs": [],
   "source": [
    "def train_model(first_layer, second_layer, epoch, batchsize):\n",
    "    model = Sequential()\n",
    "    model.add(Dense(first_layer, input_dim=20, activation='relu'))\n",
    "    model.add(Dense(second_layer, activation='relu'))\n",
    "    model.add(Dense(output_dim = 1, activation='tanh'))\n",
    "    model.compile(loss='binary_crossentropy', optimizer='adam', metrics=['accuracy', auroc])\n",
    "    model.fit(x_train, y_train, epochs=epoch,validation_data=(x_test,y_test),batch_size=batchsize )\n",
    "    return model"
   ]
  },
  {
   "cell_type": "code",
   "execution_count": 400,
   "metadata": {
    "scrolled": true
   },
   "outputs": [
    {
     "name": "stderr",
     "output_type": "stream",
     "text": [
      "/Users/jam/opt/anaconda3/lib/python3.7/site-packages/ipykernel_launcher.py:5: UserWarning: Update your `Dense` call to the Keras 2 API: `Dense(activation=\"tanh\", units=1)`\n",
      "  \"\"\"\n"
     ]
    },
    {
     "name": "stdout",
     "output_type": "stream",
     "text": [
      "Train on 56447 samples, validate on 24192 samples\n",
      "Epoch 1/10\n",
      "56447/56447 [==============================] - 0s 8us/step - loss: 0.1640 - accuracy: 0.8848 - auroc: 0.1483 - val_loss: 0.1709 - val_accuracy: 0.8728 - val_auroc: 0.1498\n",
      "Epoch 2/10\n",
      "56447/56447 [==============================] - 0s 5us/step - loss: 0.1640 - accuracy: 0.8708 - auroc: 0.1423 - val_loss: 0.1709 - val_accuracy: 0.8674 - val_auroc: 0.1502\n",
      "Epoch 3/10\n",
      "56447/56447 [==============================] - 0s 4us/step - loss: 0.1640 - accuracy: 0.8680 - auroc: 0.1418 - val_loss: 0.1709 - val_accuracy: 0.8664 - val_auroc: 0.1503\n",
      "Epoch 4/10\n",
      "56447/56447 [==============================] - 0s 5us/step - loss: 0.1640 - accuracy: 0.8676 - auroc: 0.1411 - val_loss: 0.1709 - val_accuracy: 0.8664 - val_auroc: 0.1503\n",
      "Epoch 5/10\n",
      "56447/56447 [==============================] - 0s 4us/step - loss: 0.1640 - accuracy: 0.8675 - auroc: 0.1436 - val_loss: 0.1709 - val_accuracy: 0.8663 - val_auroc: 0.1503\n",
      "Epoch 6/10\n",
      "56447/56447 [==============================] - 0s 4us/step - loss: 0.1640 - accuracy: 0.8675 - auroc: 0.1381 - val_loss: 0.1709 - val_accuracy: 0.8663 - val_auroc: 0.1503\n",
      "Epoch 7/10\n",
      "56447/56447 [==============================] - 0s 4us/step - loss: 0.1640 - accuracy: 0.8675 - auroc: 0.1396 - val_loss: 0.1709 - val_accuracy: 0.8663 - val_auroc: 0.1503\n",
      "Epoch 8/10\n",
      "56447/56447 [==============================] - 0s 4us/step - loss: 0.1640 - accuracy: 0.8675 - auroc: 0.1427 - val_loss: 0.1709 - val_accuracy: 0.8663 - val_auroc: 0.1503\n",
      "Epoch 9/10\n",
      "56447/56447 [==============================] - 0s 5us/step - loss: 0.1640 - accuracy: 0.8675 - auroc: 0.1379 - val_loss: 0.1709 - val_accuracy: 0.8663 - val_auroc: 0.1503\n",
      "Epoch 10/10\n",
      "56447/56447 [==============================] - 0s 4us/step - loss: 0.1640 - accuracy: 0.8675 - auroc: 0.1419 - val_loss: 0.1709 - val_accuracy: 0.8663 - val_auroc: 0.1503\n"
     ]
    },
    {
     "name": "stderr",
     "output_type": "stream",
     "text": [
      "/Users/jam/opt/anaconda3/lib/python3.7/site-packages/ipykernel_launcher.py:5: UserWarning: Update your `Dense` call to the Keras 2 API: `Dense(activation=\"tanh\", units=1)`\n",
      "  \"\"\"\n"
     ]
    },
    {
     "name": "stdout",
     "output_type": "stream",
     "text": [
      "Train on 56447 samples, validate on 24192 samples\n",
      "Epoch 1/20\n",
      "56447/56447 [==============================] - 0s 8us/step - loss: 0.1705 - accuracy: 0.8988 - auroc: 0.1490 - val_loss: 0.1563 - val_accuracy: 0.8569 - val_auroc: 0.0959\n",
      "Epoch 2/20\n",
      "56447/56447 [==============================] - 0s 4us/step - loss: 0.1698 - accuracy: 0.8455 - auroc: 0.1252 - val_loss: 0.1562 - val_accuracy: 0.8474 - val_auroc: 0.0966\n",
      "Epoch 3/20\n",
      "56447/56447 [==============================] - 0s 5us/step - loss: 0.1698 - accuracy: 0.8435 - auroc: 0.1266 - val_loss: 0.1562 - val_accuracy: 0.8483 - val_auroc: 0.1002\n",
      "Epoch 4/20\n",
      "56447/56447 [==============================] - 0s 4us/step - loss: 0.1698 - accuracy: 0.8429 - auroc: 0.1318 - val_loss: 0.1562 - val_accuracy: 0.8476 - val_auroc: 0.1006\n",
      "Epoch 5/20\n",
      "56447/56447 [==============================] - 0s 4us/step - loss: 0.1698 - accuracy: 0.8416 - auroc: 0.1248 - val_loss: 0.1562 - val_accuracy: 0.8463 - val_auroc: 0.1009\n",
      "Epoch 6/20\n",
      "56447/56447 [==============================] - 1s 11us/step - loss: 0.1698 - accuracy: 0.8434 - auroc: 0.1316 - val_loss: 0.1562 - val_accuracy: 0.8479 - val_auroc: 0.1026\n",
      "Epoch 7/20\n",
      "56447/56447 [==============================] - 0s 6us/step - loss: 0.1698 - accuracy: 0.8417 - auroc: 0.1321 - val_loss: 0.1562 - val_accuracy: 0.8454 - val_auroc: 0.1015\n",
      "Epoch 8/20\n",
      "56447/56447 [==============================] - 0s 5us/step - loss: 0.1698 - accuracy: 0.8426 - auroc: 0.1313 - val_loss: 0.1562 - val_accuracy: 0.8472 - val_auroc: 0.1029\n",
      "Epoch 9/20\n",
      "56447/56447 [==============================] - 0s 4us/step - loss: 0.1698 - accuracy: 0.8433 - auroc: 0.1300 - val_loss: 0.1562 - val_accuracy: 0.8462 - val_auroc: 0.1023\n",
      "Epoch 10/20\n",
      "56447/56447 [==============================] - 0s 3us/step - loss: 0.1698 - accuracy: 0.8412 - auroc: 0.1341 - val_loss: 0.1562 - val_accuracy: 0.8452 - val_auroc: 0.1021\n",
      "Epoch 11/20\n",
      "56447/56447 [==============================] - 0s 3us/step - loss: 0.1698 - accuracy: 0.8412 - auroc: 0.1273 - val_loss: 0.1562 - val_accuracy: 0.8463 - val_auroc: 0.1027\n",
      "Epoch 12/20\n",
      "56447/56447 [==============================] - 0s 4us/step - loss: 0.1698 - accuracy: 0.8416 - auroc: 0.1310 - val_loss: 0.1562 - val_accuracy: 0.8456 - val_auroc: 0.1022\n",
      "Epoch 13/20\n",
      "56447/56447 [==============================] - 0s 3us/step - loss: 0.1698 - accuracy: 0.8411 - auroc: 0.1301 - val_loss: 0.1562 - val_accuracy: 0.8449 - val_auroc: 0.1021\n",
      "Epoch 14/20\n",
      "56447/56447 [==============================] - 0s 3us/step - loss: 0.1698 - accuracy: 0.8392 - auroc: 0.1322 - val_loss: 0.1562 - val_accuracy: 0.8432 - val_auroc: 0.1026\n",
      "Epoch 15/20\n",
      "56447/56447 [==============================] - 0s 3us/step - loss: 0.1698 - accuracy: 0.8386 - auroc: 0.1327 - val_loss: 0.1562 - val_accuracy: 0.8434 - val_auroc: 0.1025\n",
      "Epoch 16/20\n",
      "56447/56447 [==============================] - 0s 3us/step - loss: 0.1698 - accuracy: 0.8392 - auroc: 0.1341 - val_loss: 0.1562 - val_accuracy: 0.8439 - val_auroc: 0.1019\n",
      "Epoch 17/20\n",
      "56447/56447 [==============================] - 0s 3us/step - loss: 0.1698 - accuracy: 0.8391 - auroc: 0.1339 - val_loss: 0.1562 - val_accuracy: 0.8431 - val_auroc: 0.1020\n",
      "Epoch 18/20\n",
      "56447/56447 [==============================] - 0s 7us/step - loss: 0.1698 - accuracy: 0.8380 - auroc: 0.1328 - val_loss: 0.1562 - val_accuracy: 0.8414 - val_auroc: 0.1018\n",
      "Epoch 19/20\n",
      "56447/56447 [==============================] - 0s 5us/step - loss: 0.1698 - accuracy: 0.8376 - auroc: 0.1302 - val_loss: 0.1562 - val_accuracy: 0.8408 - val_auroc: 0.1017\n",
      "Epoch 20/20\n",
      "56447/56447 [==============================] - 0s 5us/step - loss: 0.1698 - accuracy: 0.8357 - auroc: 0.1270 - val_loss: 0.1562 - val_accuracy: 0.8392 - val_auroc: 0.1015\n"
     ]
    },
    {
     "name": "stderr",
     "output_type": "stream",
     "text": [
      "/Users/jam/opt/anaconda3/lib/python3.7/site-packages/ipykernel_launcher.py:5: UserWarning: Update your `Dense` call to the Keras 2 API: `Dense(activation=\"tanh\", units=1)`\n",
      "  \"\"\"\n"
     ]
    },
    {
     "name": "stdout",
     "output_type": "stream",
     "text": [
      "Train on 56447 samples, validate on 24192 samples\n",
      "Epoch 1/10\n",
      "56447/56447 [==============================] - 0s 7us/step - loss: 0.0803 - accuracy: 0.9856 - auroc: 0.8485 - val_loss: 0.0567 - val_accuracy: 0.9864 - val_auroc: 0.8920\n",
      "Epoch 2/10\n",
      "56447/56447 [==============================] - 0s 3us/step - loss: 0.0667 - accuracy: 0.9833 - auroc: 0.8889 - val_loss: 0.0515 - val_accuracy: 0.9792 - val_auroc: 0.9080\n",
      "Epoch 3/10\n",
      "56447/56447 [==============================] - 0s 3us/step - loss: 0.0631 - accuracy: 0.9728 - auroc: 0.8971 - val_loss: 0.0488 - val_accuracy: 0.9677 - val_auroc: 0.9136\n",
      "Epoch 4/10\n",
      "56447/56447 [==============================] - 0s 3us/step - loss: 0.0602 - accuracy: 0.9676 - auroc: 0.8998 - val_loss: 0.0478 - val_accuracy: 0.9673 - val_auroc: 0.9176\n",
      "Epoch 5/10\n",
      "56447/56447 [==============================] - 0s 3us/step - loss: 0.0587 - accuracy: 0.9658 - auroc: 0.9021 - val_loss: 0.0464 - val_accuracy: 0.9651 - val_auroc: 0.9206\n",
      "Epoch 6/10\n",
      "56447/56447 [==============================] - 0s 3us/step - loss: 0.0579 - accuracy: 0.9648 - auroc: 0.9058 - val_loss: 0.0472 - val_accuracy: 0.9614 - val_auroc: 0.9204\n",
      "Epoch 7/10\n",
      "56447/56447 [==============================] - 0s 3us/step - loss: 0.0575 - accuracy: 0.9611 - auroc: 0.9070 - val_loss: 0.0447 - val_accuracy: 0.9556 - val_auroc: 0.9269\n",
      "Epoch 8/10\n",
      "56447/56447 [==============================] - 0s 3us/step - loss: 0.0546 - accuracy: 0.9531 - auroc: 0.9107 - val_loss: 0.0445 - val_accuracy: 0.9498 - val_auroc: 0.9265\n",
      "Epoch 9/10\n",
      "56447/56447 [==============================] - 0s 3us/step - loss: 0.0559 - accuracy: 0.9413 - auroc: 0.9117 - val_loss: 0.0444 - val_accuracy: 0.9429 - val_auroc: 0.9253\n",
      "Epoch 10/10\n",
      "56447/56447 [==============================] - 0s 3us/step - loss: 0.0564 - accuracy: 0.9165 - auroc: 0.9106 - val_loss: 0.0488 - val_accuracy: 0.8797 - val_auroc: 0.9265\n"
     ]
    },
    {
     "name": "stderr",
     "output_type": "stream",
     "text": [
      "/Users/jam/opt/anaconda3/lib/python3.7/site-packages/ipykernel_launcher.py:5: UserWarning: Update your `Dense` call to the Keras 2 API: `Dense(activation=\"tanh\", units=1)`\n",
      "  \"\"\"\n"
     ]
    },
    {
     "name": "stdout",
     "output_type": "stream",
     "text": [
      "Train on 56447 samples, validate on 24192 samples\n",
      "Epoch 1/20\n",
      "56447/56447 [==============================] - 0s 7us/step - loss: 0.1646 - accuracy: 0.9328 - auroc: 0.1543 - val_loss: 0.1628 - val_accuracy: 0.9209 - val_auroc: 0.1194\n",
      "Epoch 2/20\n",
      "56447/56447 [==============================] - 0s 3us/step - loss: 0.1599 - accuracy: 0.9226 - auroc: 0.1784 - val_loss: 0.1609 - val_accuracy: 0.9271 - val_auroc: 0.1722\n",
      "Epoch 3/20\n",
      "56447/56447 [==============================] - 0s 3us/step - loss: 0.1573 - accuracy: 0.9444 - auroc: 0.2373 - val_loss: 0.1577 - val_accuracy: 0.9603 - val_auroc: 0.2777\n",
      "Epoch 4/20\n",
      "56447/56447 [==============================] - 0s 3us/step - loss: 0.1308 - accuracy: 0.9740 - auroc: 0.5126 - val_loss: 0.0799 - val_accuracy: 0.9835 - val_auroc: 0.8309\n",
      "Epoch 5/20\n",
      "56447/56447 [==============================] - 0s 3us/step - loss: 0.0703 - accuracy: 0.9837 - auroc: 0.8772 - val_loss: 0.0680 - val_accuracy: 0.9840 - val_auroc: 0.8952\n",
      "Epoch 6/20\n",
      "56447/56447 [==============================] - 0s 3us/step - loss: 0.0639 - accuracy: 0.9837 - auroc: 0.8963 - val_loss: 0.0664 - val_accuracy: 0.9832 - val_auroc: 0.9006\n",
      "Epoch 7/20\n",
      "56447/56447 [==============================] - 0s 3us/step - loss: 0.0616 - accuracy: 0.9829 - auroc: 0.8934 - val_loss: 0.0642 - val_accuracy: 0.9801 - val_auroc: 0.9035\n",
      "Epoch 8/20\n",
      "56447/56447 [==============================] - 0s 3us/step - loss: 0.0625 - accuracy: 0.9725 - auroc: 0.9010 - val_loss: 0.0629 - val_accuracy: 0.9723 - val_auroc: 0.9044\n",
      "Epoch 9/20\n",
      "56447/56447 [==============================] - 0s 3us/step - loss: 0.0599 - accuracy: 0.9734 - auroc: 0.9067 - val_loss: 0.0602 - val_accuracy: 0.9566 - val_auroc: 0.9102\n",
      "Epoch 10/20\n",
      "56447/56447 [==============================] - 0s 4us/step - loss: 0.0594 - accuracy: 0.9664 - auroc: 0.9058 - val_loss: 0.0580 - val_accuracy: 0.9868 - val_auroc: 0.9127\n",
      "Epoch 11/20\n",
      "56447/56447 [==============================] - 0s 3us/step - loss: 0.0617 - accuracy: 0.9876 - auroc: 0.9066 - val_loss: 0.0610 - val_accuracy: 0.9885 - val_auroc: 0.9181\n",
      "Epoch 12/20\n",
      "56447/56447 [==============================] - 0s 4us/step - loss: 0.0588 - accuracy: 0.9883 - auroc: 0.9115 - val_loss: 0.0587 - val_accuracy: 0.9883 - val_auroc: 0.9204\n",
      "Epoch 13/20\n",
      "56447/56447 [==============================] - 0s 3us/step - loss: 0.0592 - accuracy: 0.9882 - auroc: 0.9137 - val_loss: 0.0587 - val_accuracy: 0.9885 - val_auroc: 0.9205\n",
      "Epoch 14/20\n",
      "56447/56447 [==============================] - 0s 3us/step - loss: 0.0596 - accuracy: 0.9884 - auroc: 0.9150 - val_loss: 0.0566 - val_accuracy: 0.9886 - val_auroc: 0.9206\n",
      "Epoch 15/20\n",
      "56447/56447 [==============================] - 0s 3us/step - loss: 0.0639 - accuracy: 0.9875 - auroc: 0.9129 - val_loss: 0.0784 - val_accuracy: 0.9843 - val_auroc: 0.9172\n",
      "Epoch 16/20\n",
      "56447/56447 [==============================] - 0s 3us/step - loss: 0.0856 - accuracy: 0.9793 - auroc: 0.9151 - val_loss: 0.0820 - val_accuracy: 0.9809 - val_auroc: 0.9155\n",
      "Epoch 17/20\n",
      "56447/56447 [==============================] - 0s 3us/step - loss: 0.0690 - accuracy: 0.9846 - auroc: 0.9109 - val_loss: 0.0623 - val_accuracy: 0.9879 - val_auroc: 0.9175\n",
      "Epoch 18/20\n",
      "56447/56447 [==============================] - 0s 3us/step - loss: 0.0619 - accuracy: 0.9869 - auroc: 0.9177 - val_loss: 0.0603 - val_accuracy: 0.9888 - val_auroc: 0.9139\n",
      "Epoch 19/20\n",
      "56447/56447 [==============================] - 0s 3us/step - loss: 0.0596 - accuracy: 0.9883 - auroc: 0.9170 - val_loss: 0.0587 - val_accuracy: 0.9890 - val_auroc: 0.9194\n",
      "Epoch 20/20\n",
      "56447/56447 [==============================] - 0s 3us/step - loss: 0.0584 - accuracy: 0.9883 - auroc: 0.9164 - val_loss: 0.0605 - val_accuracy: 0.9895 - val_auroc: 0.9120\n"
     ]
    },
    {
     "name": "stderr",
     "output_type": "stream",
     "text": [
      "/Users/jam/opt/anaconda3/lib/python3.7/site-packages/ipykernel_launcher.py:5: UserWarning: Update your `Dense` call to the Keras 2 API: `Dense(activation=\"tanh\", units=1)`\n",
      "  \"\"\"\n"
     ]
    },
    {
     "name": "stdout",
     "output_type": "stream",
     "text": [
      "Train on 56447 samples, validate on 24192 samples\n",
      "Epoch 1/10\n",
      "56447/56447 [==============================] - 0s 6us/step - loss: 0.1806 - accuracy: 0.9401 - auroc: 0.8408 - val_loss: 0.1533 - val_accuracy: 0.9646 - val_auroc: 0.8397\n",
      "Epoch 2/10\n",
      "56447/56447 [==============================] - 0s 3us/step - loss: 0.1486 - accuracy: 0.9709 - auroc: 0.7461 - val_loss: 0.1289 - val_accuracy: 0.9789 - val_auroc: 0.8263\n",
      "Epoch 3/10\n",
      "56447/56447 [==============================] - 0s 3us/step - loss: 0.1212 - accuracy: 0.9825 - auroc: 0.7736 - val_loss: 0.1021 - val_accuracy: 0.9856 - val_auroc: 0.8090\n",
      "Epoch 4/10\n",
      "56447/56447 [==============================] - 0s 3us/step - loss: 0.0988 - accuracy: 0.9869 - auroc: 0.7709 - val_loss: 0.0823 - val_accuracy: 0.9884 - val_auroc: 0.8465\n",
      "Epoch 5/10\n",
      "56447/56447 [==============================] - 0s 3us/step - loss: 0.0799 - accuracy: 0.9886 - auroc: 0.8010 - val_loss: 0.0662 - val_accuracy: 0.9892 - val_auroc: 0.8569\n",
      "Epoch 6/10\n",
      "56447/56447 [==============================] - 0s 3us/step - loss: 0.0667 - accuracy: 0.9892 - auroc: 0.8029 - val_loss: 0.0521 - val_accuracy: 0.9896 - val_auroc: 0.8615\n",
      "Epoch 7/10\n",
      "56447/56447 [==============================] - 0s 3us/step - loss: 0.0622 - accuracy: 0.9896 - auroc: 0.8296 - val_loss: 0.0496 - val_accuracy: 0.9895 - val_auroc: 0.8828\n",
      "Epoch 8/10\n",
      "56447/56447 [==============================] - 0s 3us/step - loss: 0.0588 - accuracy: 0.9895 - auroc: 0.8633 - val_loss: 0.0473 - val_accuracy: 0.9895 - val_auroc: 0.9053\n",
      "Epoch 9/10\n",
      "56447/56447 [==============================] - 0s 3us/step - loss: 0.0569 - accuracy: 0.9895 - auroc: 0.8732 - val_loss: 0.0455 - val_accuracy: 0.9897 - val_auroc: 0.9089\n",
      "Epoch 10/10\n",
      "56447/56447 [==============================] - 0s 3us/step - loss: 0.0566 - accuracy: 0.9897 - auroc: 0.8801 - val_loss: 0.0457 - val_accuracy: 0.9899 - val_auroc: 0.9104\n"
     ]
    },
    {
     "name": "stderr",
     "output_type": "stream",
     "text": [
      "/Users/jam/opt/anaconda3/lib/python3.7/site-packages/ipykernel_launcher.py:5: UserWarning: Update your `Dense` call to the Keras 2 API: `Dense(activation=\"tanh\", units=1)`\n",
      "  \"\"\"\n"
     ]
    },
    {
     "name": "stdout",
     "output_type": "stream",
     "text": [
      "Train on 56447 samples, validate on 24192 samples\n",
      "Epoch 1/20\n",
      "56447/56447 [==============================] - 0s 7us/step - loss: 0.1736 - accuracy: 0.9551 - auroc: 0.8898 - val_loss: 0.0855 - val_accuracy: 0.9842 - val_auroc: 0.8753\n",
      "Epoch 2/20\n",
      "56447/56447 [==============================] - 0s 3us/step - loss: 0.0720 - accuracy: 0.9864 - auroc: 0.8821 - val_loss: 0.0655 - val_accuracy: 0.9877 - val_auroc: 0.8763\n",
      "Epoch 3/20\n",
      "56447/56447 [==============================] - 0s 3us/step - loss: 0.0646 - accuracy: 0.9891 - auroc: 0.8688 - val_loss: 0.0647 - val_accuracy: 0.9894 - val_auroc: 0.8646\n",
      "Epoch 4/20\n",
      "56447/56447 [==============================] - 0s 3us/step - loss: 0.0624 - accuracy: 0.9898 - auroc: 0.8689 - val_loss: 0.0618 - val_accuracy: 0.9892 - val_auroc: 0.8607\n",
      "Epoch 5/20\n",
      "56447/56447 [==============================] - 0s 3us/step - loss: 0.0617 - accuracy: 0.9897 - auroc: 0.8657 - val_loss: 0.0620 - val_accuracy: 0.9895 - val_auroc: 0.8543\n",
      "Epoch 6/20\n",
      "56447/56447 [==============================] - 0s 3us/step - loss: 0.0622 - accuracy: 0.9899 - auroc: 0.8650 - val_loss: 0.0626 - val_accuracy: 0.9898 - val_auroc: 0.8584\n",
      "Epoch 7/20\n",
      "56447/56447 [==============================] - 0s 4us/step - loss: 0.0609 - accuracy: 0.9903 - auroc: 0.8728 - val_loss: 0.0618 - val_accuracy: 0.9902 - val_auroc: 0.8660\n",
      "Epoch 8/20\n",
      "56447/56447 [==============================] - 0s 3us/step - loss: 0.0592 - accuracy: 0.9906 - auroc: 0.8689 - val_loss: 0.0601 - val_accuracy: 0.9900 - val_auroc: 0.8712\n",
      "Epoch 9/20\n",
      "56447/56447 [==============================] - 0s 3us/step - loss: 0.0578 - accuracy: 0.9906 - auroc: 0.8790 - val_loss: 0.0587 - val_accuracy: 0.9903 - val_auroc: 0.8809\n",
      "Epoch 10/20\n",
      "56447/56447 [==============================] - 0s 3us/step - loss: 0.0568 - accuracy: 0.9906 - auroc: 0.8773 - val_loss: 0.0565 - val_accuracy: 0.9905 - val_auroc: 0.8839\n",
      "Epoch 11/20\n",
      "56447/56447 [==============================] - 0s 3us/step - loss: 0.0554 - accuracy: 0.9908 - auroc: 0.8813 - val_loss: 0.0547 - val_accuracy: 0.9909 - val_auroc: 0.8877\n",
      "Epoch 12/20\n",
      "56447/56447 [==============================] - 0s 4us/step - loss: 0.0545 - accuracy: 0.9911 - auroc: 0.8815 - val_loss: 0.0560 - val_accuracy: 0.9909 - val_auroc: 0.8873\n",
      "Epoch 13/20\n",
      "56447/56447 [==============================] - 0s 4us/step - loss: 0.0541 - accuracy: 0.9911 - auroc: 0.8860 - val_loss: 0.0565 - val_accuracy: 0.9909 - val_auroc: 0.8855\n",
      "Epoch 14/20\n",
      "56447/56447 [==============================] - 0s 3us/step - loss: 0.0547 - accuracy: 0.9910 - auroc: 0.8761 - val_loss: 0.0581 - val_accuracy: 0.9908 - val_auroc: 0.8698\n",
      "Epoch 15/20\n",
      "56447/56447 [==============================] - 0s 4us/step - loss: 0.0540 - accuracy: 0.9909 - auroc: 0.8776 - val_loss: 0.0554 - val_accuracy: 0.9907 - val_auroc: 0.8806\n",
      "Epoch 16/20\n",
      "56447/56447 [==============================] - 0s 3us/step - loss: 0.0540 - accuracy: 0.9909 - auroc: 0.8793 - val_loss: 0.0571 - val_accuracy: 0.9909 - val_auroc: 0.8669\n",
      "Epoch 17/20\n",
      "56447/56447 [==============================] - 0s 4us/step - loss: 0.0533 - accuracy: 0.9910 - auroc: 0.8785 - val_loss: 0.0552 - val_accuracy: 0.9909 - val_auroc: 0.8782\n",
      "Epoch 18/20\n",
      "56447/56447 [==============================] - 0s 3us/step - loss: 0.0533 - accuracy: 0.9911 - auroc: 0.8798 - val_loss: 0.0559 - val_accuracy: 0.9909 - val_auroc: 0.8792\n",
      "Epoch 19/20\n",
      "56447/56447 [==============================] - 0s 3us/step - loss: 0.0534 - accuracy: 0.9911 - auroc: 0.8738 - val_loss: 0.0576 - val_accuracy: 0.9909 - val_auroc: 0.8634\n",
      "Epoch 20/20\n",
      "56447/56447 [==============================] - 0s 3us/step - loss: 0.0530 - accuracy: 0.9909 - auroc: 0.8758 - val_loss: 0.0562 - val_accuracy: 0.9909 - val_auroc: 0.8714\n"
     ]
    },
    {
     "name": "stderr",
     "output_type": "stream",
     "text": [
      "/Users/jam/opt/anaconda3/lib/python3.7/site-packages/ipykernel_launcher.py:5: UserWarning: Update your `Dense` call to the Keras 2 API: `Dense(activation=\"tanh\", units=1)`\n",
      "  \"\"\"\n"
     ]
    },
    {
     "name": "stdout",
     "output_type": "stream",
     "text": [
      "Train on 56447 samples, validate on 24192 samples\n",
      "Epoch 1/10\n",
      "56447/56447 [==============================] - 0s 7us/step - loss: 0.0888 - accuracy: 0.9753 - auroc: 0.7828 - val_loss: 0.0807 - val_accuracy: 0.9769 - val_auroc: 0.7682\n",
      "Epoch 2/10\n",
      "56447/56447 [==============================] - 0s 3us/step - loss: 0.0808 - accuracy: 0.9756 - auroc: 0.8060 - val_loss: 0.0775 - val_accuracy: 0.9769 - val_auroc: 0.7955\n",
      "Epoch 3/10\n",
      "56447/56447 [==============================] - 0s 3us/step - loss: 0.0785 - accuracy: 0.9751 - auroc: 0.8030 - val_loss: 0.0759 - val_accuracy: 0.9764 - val_auroc: 0.8033\n",
      "Epoch 4/10\n",
      "56447/56447 [==============================] - 0s 3us/step - loss: 0.0771 - accuracy: 0.9752 - auroc: 0.8105 - val_loss: 0.0764 - val_accuracy: 0.9758 - val_auroc: 0.7996\n",
      "Epoch 5/10\n",
      "56447/56447 [==============================] - 0s 3us/step - loss: 0.0788 - accuracy: 0.9748 - auroc: 0.8049 - val_loss: 0.0761 - val_accuracy: 0.9759 - val_auroc: 0.8049\n",
      "Epoch 6/10\n",
      "56447/56447 [==============================] - 0s 3us/step - loss: 0.0771 - accuracy: 0.9755 - auroc: 0.8184 - val_loss: 0.0742 - val_accuracy: 0.9765 - val_auroc: 0.8103\n",
      "Epoch 7/10\n",
      "56447/56447 [==============================] - 0s 4us/step - loss: 0.0785 - accuracy: 0.9753 - auroc: 0.8109 - val_loss: 0.0756 - val_accuracy: 0.9770 - val_auroc: 0.8160\n",
      "Epoch 8/10\n",
      "56447/56447 [==============================] - 0s 3us/step - loss: 0.0788 - accuracy: 0.9764 - auroc: 0.8264 - val_loss: 0.0784 - val_accuracy: 0.9779 - val_auroc: 0.8259\n",
      "Epoch 9/10\n",
      "56447/56447 [==============================] - 0s 3us/step - loss: 0.0772 - accuracy: 0.9766 - auroc: 0.8088 - val_loss: 0.0751 - val_accuracy: 0.9779 - val_auroc: 0.8195\n",
      "Epoch 10/10\n",
      "56447/56447 [==============================] - 0s 3us/step - loss: 0.0790 - accuracy: 0.9777 - auroc: 0.8259 - val_loss: 0.0750 - val_accuracy: 0.9785 - val_auroc: 0.8226\n"
     ]
    },
    {
     "name": "stderr",
     "output_type": "stream",
     "text": [
      "/Users/jam/opt/anaconda3/lib/python3.7/site-packages/ipykernel_launcher.py:5: UserWarning: Update your `Dense` call to the Keras 2 API: `Dense(activation=\"tanh\", units=1)`\n",
      "  \"\"\"\n"
     ]
    },
    {
     "name": "stdout",
     "output_type": "stream",
     "text": [
      "Train on 56447 samples, validate on 24192 samples\n",
      "Epoch 1/20\n",
      "56447/56447 [==============================] - 0s 7us/step - loss: 0.2306 - accuracy: 0.8984 - auroc: 0.8613 - val_loss: 0.1774 - val_accuracy: 0.9191 - val_auroc: 0.8735\n",
      "Epoch 2/20\n",
      "56447/56447 [==============================] - 0s 3us/step - loss: 0.1437 - accuracy: 0.9413 - auroc: 0.8655 - val_loss: 0.1127 - val_accuracy: 0.9704 - val_auroc: 0.8836\n",
      "Epoch 3/20\n",
      "56447/56447 [==============================] - 0s 3us/step - loss: 0.1002 - accuracy: 0.9779 - auroc: 0.8695 - val_loss: 0.0922 - val_accuracy: 0.9798 - val_auroc: 0.8889\n",
      "Epoch 4/20\n",
      "56447/56447 [==============================] - 0s 3us/step - loss: 0.0952 - accuracy: 0.9808 - auroc: 0.8774 - val_loss: 0.0888 - val_accuracy: 0.9813 - val_auroc: 0.8930\n",
      "Epoch 5/20\n",
      "56447/56447 [==============================] - 0s 3us/step - loss: 0.0872 - accuracy: 0.9839 - auroc: 0.8768 - val_loss: 0.0781 - val_accuracy: 0.9843 - val_auroc: 0.8950\n",
      "Epoch 6/20\n",
      "56447/56447 [==============================] - 0s 4us/step - loss: 0.0753 - accuracy: 0.9851 - auroc: 0.8808 - val_loss: 0.0655 - val_accuracy: 0.9820 - val_auroc: 0.8963\n",
      "Epoch 7/20\n",
      "56447/56447 [==============================] - 0s 3us/step - loss: 0.0645 - accuracy: 0.9712 - auroc: 0.8796 - val_loss: 0.0571 - val_accuracy: 0.9381 - val_auroc: 0.8960\n",
      "Epoch 8/20\n",
      "56447/56447 [==============================] - 0s 3us/step - loss: 0.0634 - accuracy: 0.8732 - auroc: 0.8767 - val_loss: 0.0566 - val_accuracy: 0.8239 - val_auroc: 0.8981\n",
      "Epoch 9/20\n",
      "56447/56447 [==============================] - 0s 4us/step - loss: 0.0619 - accuracy: 0.8100 - auroc: 0.8813 - val_loss: 0.0549 - val_accuracy: 0.7950 - val_auroc: 0.9034\n",
      "Epoch 10/20\n",
      "56447/56447 [==============================] - 0s 3us/step - loss: 0.0621 - accuracy: 0.7778 - auroc: 0.8839 - val_loss: 0.0552 - val_accuracy: 0.7588 - val_auroc: 0.9052\n",
      "Epoch 11/20\n",
      "56447/56447 [==============================] - 0s 3us/step - loss: 0.0609 - accuracy: 0.7422 - auroc: 0.8883 - val_loss: 0.0534 - val_accuracy: 0.7317 - val_auroc: 0.9079\n",
      "Epoch 12/20\n",
      "56447/56447 [==============================] - 0s 4us/step - loss: 0.0710 - accuracy: 0.7202 - auroc: 0.8887 - val_loss: 0.0690 - val_accuracy: 0.7045 - val_auroc: 0.9053\n",
      "Epoch 13/20\n",
      "56447/56447 [==============================] - 0s 3us/step - loss: 0.0680 - accuracy: 0.6844 - auroc: 0.8912 - val_loss: 0.0547 - val_accuracy: 0.6657 - val_auroc: 0.9109\n",
      "Epoch 14/20\n",
      "56447/56447 [==============================] - 0s 3us/step - loss: 0.0641 - accuracy: 0.6473 - auroc: 0.8945 - val_loss: 0.0565 - val_accuracy: 0.6292 - val_auroc: 0.9111\n",
      "Epoch 15/20\n",
      "56447/56447 [==============================] - 0s 3us/step - loss: 0.0663 - accuracy: 0.6266 - auroc: 0.8974 - val_loss: 0.0541 - val_accuracy: 0.6226 - val_auroc: 0.9162\n",
      "Epoch 16/20\n",
      "56447/56447 [==============================] - 0s 3us/step - loss: 0.0608 - accuracy: 0.6134 - auroc: 0.9026 - val_loss: 0.0523 - val_accuracy: 0.6076 - val_auroc: 0.9179\n",
      "Epoch 17/20\n",
      "56447/56447 [==============================] - 0s 3us/step - loss: 0.0579 - accuracy: 0.6044 - auroc: 0.9055 - val_loss: 0.0514 - val_accuracy: 0.6008 - val_auroc: 0.9189\n",
      "Epoch 18/20\n",
      "56447/56447 [==============================] - 0s 4us/step - loss: 0.0578 - accuracy: 0.5967 - auroc: 0.9078 - val_loss: 0.0517 - val_accuracy: 0.5966 - val_auroc: 0.9196\n",
      "Epoch 19/20\n",
      "56447/56447 [==============================] - 0s 4us/step - loss: 0.0565 - accuracy: 0.5901 - auroc: 0.9095 - val_loss: 0.0507 - val_accuracy: 0.5848 - val_auroc: 0.9199\n",
      "Epoch 20/20\n",
      "56447/56447 [==============================] - 0s 3us/step - loss: 0.0562 - accuracy: 0.5818 - auroc: 0.9047 - val_loss: 0.0505 - val_accuracy: 0.5790 - val_auroc: 0.9204\n"
     ]
    }
   ],
   "source": [
    "for first_layer in [16,10]:\n",
    "    for second_layer in [12,7]:\n",
    "        for epoch in [10,20]:\n",
    "            for batchsize in [3200]:\n",
    "                keras.backend.clear_session()\n",
    "                x_train,x_test,y_train,y_test = train_test_split(X,Y,test_size = 0.3)\n",
    "                m = train_model(first_layer, second_layer, epoch, batchsize)\n",
    "                fdr_train = FDR(x_train,y_train,m)\n",
    "                fdr_test = FDR(x_test,y_test,m)\n",
    "                fdr_oot = FDR(x_oot,y_oot,m)\n",
    "                result = result.append({'first_layer':first_layer,'second_layer':second_layer, 'epoch':epoch,'batchsize':batchsize,'train_fdr':fdr_train,'test_fdr':fdr_test,'oot_fdr':fdr_oot}, ignore_index = True)"
   ]
  },
  {
   "cell_type": "code",
   "execution_count": 401,
   "metadata": {},
   "outputs": [
    {
     "data": {
      "text/html": [
       "<div>\n",
       "<style scoped>\n",
       "    .dataframe tbody tr th:only-of-type {\n",
       "        vertical-align: middle;\n",
       "    }\n",
       "\n",
       "    .dataframe tbody tr th {\n",
       "        vertical-align: top;\n",
       "    }\n",
       "\n",
       "    .dataframe thead th {\n",
       "        text-align: right;\n",
       "    }\n",
       "</style>\n",
       "<table border=\"1\" class=\"dataframe\">\n",
       "  <thead>\n",
       "    <tr style=\"text-align: right;\">\n",
       "      <th></th>\n",
       "      <th>first_layer</th>\n",
       "      <th>second_layer</th>\n",
       "      <th>epoch</th>\n",
       "      <th>batchsize</th>\n",
       "      <th>train_fdr</th>\n",
       "      <th>test_fdr</th>\n",
       "      <th>oot_fdr</th>\n",
       "    </tr>\n",
       "  </thead>\n",
       "  <tbody>\n",
       "    <tr>\n",
       "      <td>0</td>\n",
       "      <td>16.0</td>\n",
       "      <td>12.0</td>\n",
       "      <td>10.0</td>\n",
       "      <td>3200.0</td>\n",
       "      <td>0.003333</td>\n",
       "      <td>0.003731</td>\n",
       "      <td>0.000000</td>\n",
       "    </tr>\n",
       "    <tr>\n",
       "      <td>1</td>\n",
       "      <td>16.0</td>\n",
       "      <td>12.0</td>\n",
       "      <td>20.0</td>\n",
       "      <td>3200.0</td>\n",
       "      <td>0.011236</td>\n",
       "      <td>0.004082</td>\n",
       "      <td>0.022346</td>\n",
       "    </tr>\n",
       "    <tr>\n",
       "      <td>2</td>\n",
       "      <td>16.0</td>\n",
       "      <td>7.0</td>\n",
       "      <td>10.0</td>\n",
       "      <td>3200.0</td>\n",
       "      <td>0.666142</td>\n",
       "      <td>0.721030</td>\n",
       "      <td>0.340782</td>\n",
       "    </tr>\n",
       "    <tr>\n",
       "      <td>3</td>\n",
       "      <td>16.0</td>\n",
       "      <td>7.0</td>\n",
       "      <td>20.0</td>\n",
       "      <td>3200.0</td>\n",
       "      <td>0.705401</td>\n",
       "      <td>0.688716</td>\n",
       "      <td>0.430168</td>\n",
       "    </tr>\n",
       "    <tr>\n",
       "      <td>4</td>\n",
       "      <td>10.0</td>\n",
       "      <td>12.0</td>\n",
       "      <td>10.0</td>\n",
       "      <td>3200.0</td>\n",
       "      <td>0.602273</td>\n",
       "      <td>0.686508</td>\n",
       "      <td>0.396648</td>\n",
       "    </tr>\n",
       "    <tr>\n",
       "      <td>5</td>\n",
       "      <td>10.0</td>\n",
       "      <td>12.0</td>\n",
       "      <td>20.0</td>\n",
       "      <td>3200.0</td>\n",
       "      <td>0.692308</td>\n",
       "      <td>0.634241</td>\n",
       "      <td>0.351955</td>\n",
       "    </tr>\n",
       "    <tr>\n",
       "      <td>6</td>\n",
       "      <td>10.0</td>\n",
       "      <td>7.0</td>\n",
       "      <td>10.0</td>\n",
       "      <td>3200.0</td>\n",
       "      <td>0.557508</td>\n",
       "      <td>0.537190</td>\n",
       "      <td>0.335196</td>\n",
       "    </tr>\n",
       "    <tr>\n",
       "      <td>7</td>\n",
       "      <td>10.0</td>\n",
       "      <td>7.0</td>\n",
       "      <td>20.0</td>\n",
       "      <td>3200.0</td>\n",
       "      <td>0.612642</td>\n",
       "      <td>0.621514</td>\n",
       "      <td>0.324022</td>\n",
       "    </tr>\n",
       "  </tbody>\n",
       "</table>\n",
       "</div>"
      ],
      "text/plain": [
       "   first_layer  second_layer  epoch  batchsize  train_fdr  test_fdr   oot_fdr\n",
       "0         16.0          12.0   10.0     3200.0   0.003333  0.003731  0.000000\n",
       "1         16.0          12.0   20.0     3200.0   0.011236  0.004082  0.022346\n",
       "2         16.0           7.0   10.0     3200.0   0.666142  0.721030  0.340782\n",
       "3         16.0           7.0   20.0     3200.0   0.705401  0.688716  0.430168\n",
       "4         10.0          12.0   10.0     3200.0   0.602273  0.686508  0.396648\n",
       "5         10.0          12.0   20.0     3200.0   0.692308  0.634241  0.351955\n",
       "6         10.0           7.0   10.0     3200.0   0.557508  0.537190  0.335196\n",
       "7         10.0           7.0   20.0     3200.0   0.612642  0.621514  0.324022"
      ]
     },
     "execution_count": 401,
     "metadata": {},
     "output_type": "execute_result"
    }
   ],
   "source": [
    "result"
   ]
  },
  {
   "cell_type": "code",
   "execution_count": 136,
   "metadata": {},
   "outputs": [],
   "source": [
    "result.to_csv('result_neural_net.csv') "
   ]
  },
  {
   "cell_type": "code",
   "execution_count": 134,
   "metadata": {},
   "outputs": [
    {
     "name": "stderr",
     "output_type": "stream",
     "text": [
      "/Users/jam/opt/anaconda3/lib/python3.7/site-packages/ipykernel_launcher.py:5: UserWarning: Update your `Dense` call to the Keras 2 API: `Dense(activation=\"tanh\", units=1)`\n",
      "  \"\"\"\n"
     ]
    },
    {
     "name": "stdout",
     "output_type": "stream",
     "text": [
      "Train on 56447 samples, validate on 24192 samples\n",
      "Epoch 1/15\n",
      "56447/56447 [==============================] - 1s 12us/step - loss: 0.3008 - accuracy: 0.9369 - auroc: 0.6425 - val_loss: 0.2076 - val_accuracy: 0.9346 - val_auroc: 0.5396\n",
      "Epoch 2/15\n",
      "56447/56447 [==============================] - 0s 6us/step - loss: 0.1681 - accuracy: 0.9169 - auroc: 0.5279 - val_loss: 0.1368 - val_accuracy: 0.9079 - val_auroc: 0.5363\n",
      "Epoch 3/15\n",
      "56447/56447 [==============================] - 0s 5us/step - loss: 0.1328 - accuracy: 0.9039 - auroc: 0.5285 - val_loss: 0.1216 - val_accuracy: 0.9033 - val_auroc: 0.5433\n",
      "Epoch 4/15\n",
      "56447/56447 [==============================] - 0s 3us/step - loss: 0.1211 - accuracy: 0.9015 - auroc: 0.5467 - val_loss: 0.1141 - val_accuracy: 0.9020 - val_auroc: 0.5469\n",
      "Epoch 5/15\n",
      "56447/56447 [==============================] - 0s 4us/step - loss: 0.1146 - accuracy: 0.9016 - auroc: 0.5515 - val_loss: 0.1086 - val_accuracy: 0.9045 - val_auroc: 0.5511\n",
      "Epoch 6/15\n",
      "56447/56447 [==============================] - 0s 4us/step - loss: 0.1098 - accuracy: 0.9042 - auroc: 0.5556 - val_loss: 0.1050 - val_accuracy: 0.9048 - val_auroc: 0.5550\n",
      "Epoch 7/15\n",
      "56447/56447 [==============================] - 0s 4us/step - loss: 0.1068 - accuracy: 0.9034 - auroc: 0.5607 - val_loss: 0.1026 - val_accuracy: 0.9060 - val_auroc: 0.5556\n",
      "Epoch 8/15\n",
      "56447/56447 [==============================] - 0s 4us/step - loss: 0.1049 - accuracy: 0.9034 - auroc: 0.5616 - val_loss: 0.1021 - val_accuracy: 0.9025 - val_auroc: 0.5550\n",
      "Epoch 9/15\n",
      "56447/56447 [==============================] - 0s 6us/step - loss: 0.1044 - accuracy: 0.9010 - auroc: 0.5694 - val_loss: 0.0997 - val_accuracy: 0.9037 - val_auroc: 0.5568\n",
      "Epoch 10/15\n",
      "56447/56447 [==============================] - 0s 5us/step - loss: 0.1024 - accuracy: 0.9025 - auroc: 0.5629 - val_loss: 0.0989 - val_accuracy: 0.9056 - val_auroc: 0.5589\n",
      "Epoch 11/15\n",
      "56447/56447 [==============================] - 0s 4us/step - loss: 0.1013 - accuracy: 0.9068 - auroc: 0.5745 - val_loss: 0.0962 - val_accuracy: 0.9155 - val_auroc: 0.5852\n",
      "Epoch 12/15\n",
      "56447/56447 [==============================] - 0s 5us/step - loss: 0.0999 - accuracy: 0.9201 - auroc: 0.5976 - val_loss: 0.0942 - val_accuracy: 0.9276 - val_auroc: 0.5959\n",
      "Epoch 13/15\n",
      "56447/56447 [==============================] - 0s 4us/step - loss: 0.0979 - accuracy: 0.9369 - auroc: 0.6154 - val_loss: 0.0925 - val_accuracy: 0.9427 - val_auroc: 0.6154\n",
      "Epoch 14/15\n",
      "56447/56447 [==============================] - 0s 4us/step - loss: 0.0974 - accuracy: 0.9389 - auroc: 0.6141 - val_loss: 0.0934 - val_accuracy: 0.9357 - val_auroc: 0.6089\n",
      "Epoch 15/15\n",
      "56447/56447 [==============================] - 0s 4us/step - loss: 0.0922 - accuracy: 0.9642 - auroc: 0.6659 - val_loss: 0.0835 - val_accuracy: 0.9877 - val_auroc: 0.6834\n"
     ]
    },
    {
     "name": "stderr",
     "output_type": "stream",
     "text": [
      "/Users/jam/opt/anaconda3/lib/python3.7/site-packages/ipykernel_launcher.py:5: UserWarning: Update your `Dense` call to the Keras 2 API: `Dense(activation=\"tanh\", units=1)`\n",
      "  \"\"\"\n"
     ]
    },
    {
     "name": "stdout",
     "output_type": "stream",
     "text": [
      "Train on 56447 samples, validate on 24192 samples\n",
      "Epoch 1/15\n",
      "56447/56447 [==============================] - 0s 8us/step - loss: 0.1596 - accuracy: 0.8561 - auroc: 0.1832 - val_loss: 0.1632 - val_accuracy: 0.8524 - val_auroc: 0.1844\n",
      "Epoch 2/15\n",
      "56447/56447 [==============================] - 0s 4us/step - loss: 0.1580 - accuracy: 0.8487 - auroc: 0.1946 - val_loss: 0.1621 - val_accuracy: 0.8468 - val_auroc: 0.1993\n",
      "Epoch 3/15\n",
      "56447/56447 [==============================] - 0s 5us/step - loss: 0.1568 - accuracy: 0.8439 - auroc: 0.2035 - val_loss: 0.1623 - val_accuracy: 0.8418 - val_auroc: 0.2032\n",
      "Epoch 4/15\n",
      "56447/56447 [==============================] - 0s 4us/step - loss: 0.1567 - accuracy: 0.8388 - auroc: 0.2028 - val_loss: 0.1625 - val_accuracy: 0.8387 - val_auroc: 0.2057\n",
      "Epoch 5/15\n",
      "56447/56447 [==============================] - 0s 3us/step - loss: 0.1561 - accuracy: 0.8371 - auroc: 0.2027 - val_loss: 0.1614 - val_accuracy: 0.8386 - val_auroc: 0.2109\n",
      "Epoch 6/15\n",
      "56447/56447 [==============================] - 0s 3us/step - loss: 0.1554 - accuracy: 0.8355 - auroc: 0.2121 - val_loss: 0.1608 - val_accuracy: 0.8370 - val_auroc: 0.2170\n",
      "Epoch 7/15\n",
      "56447/56447 [==============================] - 0s 4us/step - loss: 0.1546 - accuracy: 0.8373 - auroc: 0.2193 - val_loss: 0.1572 - val_accuracy: 0.8362 - val_auroc: 0.2271\n",
      "Epoch 8/15\n",
      "56447/56447 [==============================] - 0s 3us/step - loss: 0.1543 - accuracy: 0.8286 - auroc: 0.2141 - val_loss: 0.1591 - val_accuracy: 0.8244 - val_auroc: 0.2279\n",
      "Epoch 9/15\n",
      "56447/56447 [==============================] - 0s 3us/step - loss: 0.1544 - accuracy: 0.8204 - auroc: 0.2151 - val_loss: 0.1575 - val_accuracy: 0.8221 - val_auroc: 0.2286\n",
      "Epoch 10/15\n",
      "56447/56447 [==============================] - 0s 3us/step - loss: 0.1539 - accuracy: 0.8273 - auroc: 0.2163 - val_loss: 0.1559 - val_accuracy: 0.8323 - val_auroc: 0.2364\n",
      "Epoch 11/15\n",
      "56447/56447 [==============================] - 0s 7us/step - loss: 0.1538 - accuracy: 0.8301 - auroc: 0.2231 - val_loss: 0.1579 - val_accuracy: 0.8297 - val_auroc: 0.2365\n",
      "Epoch 12/15\n",
      "56447/56447 [==============================] - 0s 4us/step - loss: 0.1537 - accuracy: 0.8300 - auroc: 0.2225 - val_loss: 0.1586 - val_accuracy: 0.8316 - val_auroc: 0.2369\n",
      "Epoch 13/15\n",
      "56447/56447 [==============================] - 0s 4us/step - loss: 0.1536 - accuracy: 0.8315 - auroc: 0.2249 - val_loss: 0.1579 - val_accuracy: 0.8333 - val_auroc: 0.2376\n",
      "Epoch 14/15\n",
      "56447/56447 [==============================] - 0s 3us/step - loss: 0.1535 - accuracy: 0.8328 - auroc: 0.2249 - val_loss: 0.1583 - val_accuracy: 0.8347 - val_auroc: 0.2367\n",
      "Epoch 15/15\n",
      "56447/56447 [==============================] - 0s 3us/step - loss: 0.1528 - accuracy: 0.8353 - auroc: 0.2249 - val_loss: 0.1574 - val_accuracy: 0.8420 - val_auroc: 0.2397\n"
     ]
    },
    {
     "name": "stderr",
     "output_type": "stream",
     "text": [
      "/Users/jam/opt/anaconda3/lib/python3.7/site-packages/ipykernel_launcher.py:5: UserWarning: Update your `Dense` call to the Keras 2 API: `Dense(activation=\"tanh\", units=1)`\n",
      "  \"\"\"\n"
     ]
    },
    {
     "name": "stdout",
     "output_type": "stream",
     "text": [
      "Train on 56447 samples, validate on 24192 samples\n",
      "Epoch 1/15\n",
      "56447/56447 [==============================] - 0s 8us/step - loss: 0.1578 - accuracy: 0.8560 - auroc: 0.2096 - val_loss: 0.1601 - val_accuracy: 0.8552 - val_auroc: 0.2067\n",
      "Epoch 2/15\n",
      "56447/56447 [==============================] - 0s 3us/step - loss: 0.1501 - accuracy: 0.8557 - auroc: 0.2494 - val_loss: 0.1555 - val_accuracy: 0.8686 - val_auroc: 0.2352\n",
      "Epoch 3/15\n",
      "56447/56447 [==============================] - 0s 3us/step - loss: 0.1464 - accuracy: 0.8699 - auroc: 0.2901 - val_loss: 0.1536 - val_accuracy: 0.8725 - val_auroc: 0.2495\n",
      "Epoch 4/15\n",
      "56447/56447 [==============================] - 0s 3us/step - loss: 0.1457 - accuracy: 0.8580 - auroc: 0.2922 - val_loss: 0.1549 - val_accuracy: 0.8504 - val_auroc: 0.2412\n",
      "Epoch 5/15\n",
      "56447/56447 [==============================] - 0s 5us/step - loss: 0.1453 - accuracy: 0.8495 - auroc: 0.2920 - val_loss: 0.1541 - val_accuracy: 0.8546 - val_auroc: 0.2441\n",
      "Epoch 6/15\n",
      "56447/56447 [==============================] - 0s 5us/step - loss: 0.1446 - accuracy: 0.8508 - auroc: 0.2900 - val_loss: 0.1541 - val_accuracy: 0.8537 - val_auroc: 0.2442\n",
      "Epoch 7/15\n",
      "56447/56447 [==============================] - 0s 4us/step - loss: 0.1438 - accuracy: 0.8477 - auroc: 0.2897 - val_loss: 0.1535 - val_accuracy: 0.8468 - val_auroc: 0.2407\n",
      "Epoch 8/15\n",
      "56447/56447 [==============================] - 0s 4us/step - loss: 0.1436 - accuracy: 0.8395 - auroc: 0.2762 - val_loss: 0.1542 - val_accuracy: 0.8407 - val_auroc: 0.2398\n",
      "Epoch 9/15\n",
      "56447/56447 [==============================] - 0s 3us/step - loss: 0.1436 - accuracy: 0.8388 - auroc: 0.2789 - val_loss: 0.1538 - val_accuracy: 0.8408 - val_auroc: 0.2407\n",
      "Epoch 10/15\n",
      "56447/56447 [==============================] - 0s 4us/step - loss: 0.1335 - accuracy: 0.8674 - auroc: 0.3636 - val_loss: 0.1243 - val_accuracy: 0.9147 - val_auroc: 0.4414\n",
      "Epoch 11/15\n",
      "56447/56447 [==============================] - 0s 4us/step - loss: 0.1092 - accuracy: 0.9202 - auroc: 0.5284 - val_loss: 0.1062 - val_accuracy: 0.9310 - val_auroc: 0.5929\n",
      "Epoch 12/15\n",
      "56447/56447 [==============================] - 0s 3us/step - loss: 0.0964 - accuracy: 0.9315 - auroc: 0.6468 - val_loss: 0.1047 - val_accuracy: 0.9352 - val_auroc: 0.6200\n",
      "Epoch 13/15\n",
      "56447/56447 [==============================] - 0s 4us/step - loss: 0.0904 - accuracy: 0.9391 - auroc: 0.6626 - val_loss: 0.0901 - val_accuracy: 0.9504 - val_auroc: 0.7585\n",
      "Epoch 14/15\n",
      "56447/56447 [==============================] - 0s 6us/step - loss: 0.0778 - accuracy: 0.9497 - auroc: 0.7877 - val_loss: 0.0805 - val_accuracy: 0.9481 - val_auroc: 0.7413\n",
      "Epoch 15/15\n",
      "56447/56447 [==============================] - 0s 4us/step - loss: 0.0702 - accuracy: 0.9468 - auroc: 0.7749 - val_loss: 0.0791 - val_accuracy: 0.9488 - val_auroc: 0.7537\n"
     ]
    },
    {
     "name": "stderr",
     "output_type": "stream",
     "text": [
      "/Users/jam/opt/anaconda3/lib/python3.7/site-packages/ipykernel_launcher.py:5: UserWarning: Update your `Dense` call to the Keras 2 API: `Dense(activation=\"tanh\", units=1)`\n",
      "  \"\"\"\n"
     ]
    },
    {
     "name": "stdout",
     "output_type": "stream",
     "text": [
      "Train on 56447 samples, validate on 24192 samples\n",
      "Epoch 1/15\n",
      "56447/56447 [==============================] - 0s 9us/step - loss: 0.0820 - accuracy: 0.9871 - auroc: 0.8366 - val_loss: 0.0654 - val_accuracy: 0.9885 - val_auroc: 0.8726\n",
      "Epoch 2/15\n",
      "56447/56447 [==============================] - 0s 3us/step - loss: 0.0627 - accuracy: 0.9458 - auroc: 0.8845 - val_loss: 0.0568 - val_accuracy: 0.8221 - val_auroc: 0.9013\n",
      "Epoch 3/15\n",
      "56447/56447 [==============================] - 0s 3us/step - loss: 0.0535 - accuracy: 0.7723 - auroc: 0.9064 - val_loss: 0.0523 - val_accuracy: 0.7290 - val_auroc: 0.9080\n",
      "Epoch 4/15\n",
      "56447/56447 [==============================] - 0s 3us/step - loss: 0.0496 - accuracy: 0.7257 - auroc: 0.9133 - val_loss: 0.0498 - val_accuracy: 0.7111 - val_auroc: 0.9103\n",
      "Epoch 5/15\n",
      "56447/56447 [==============================] - 0s 4us/step - loss: 0.0483 - accuracy: 0.6983 - auroc: 0.9162 - val_loss: 0.0478 - val_accuracy: 0.6870 - val_auroc: 0.9142\n",
      "Epoch 6/15\n",
      "56447/56447 [==============================] - 0s 3us/step - loss: 0.0477 - accuracy: 0.6798 - auroc: 0.9161 - val_loss: 0.0465 - val_accuracy: 0.6796 - val_auroc: 0.9156\n",
      "Epoch 7/15\n",
      "56447/56447 [==============================] - 0s 3us/step - loss: 0.0460 - accuracy: 0.6834 - auroc: 0.9116 - val_loss: 0.0456 - val_accuracy: 0.6989 - val_auroc: 0.9157\n",
      "Epoch 8/15\n",
      "56447/56447 [==============================] - 0s 4us/step - loss: 0.0452 - accuracy: 0.6963 - auroc: 0.9181 - val_loss: 0.0448 - val_accuracy: 0.6950 - val_auroc: 0.9171\n",
      "Epoch 9/15\n",
      "56447/56447 [==============================] - 0s 5us/step - loss: 0.0449 - accuracy: 0.6994 - auroc: 0.9185 - val_loss: 0.0445 - val_accuracy: 0.7117 - val_auroc: 0.9189\n",
      "Epoch 10/15\n",
      "56447/56447 [==============================] - 0s 5us/step - loss: 0.0484 - accuracy: 0.7274 - auroc: 0.9191 - val_loss: 0.0494 - val_accuracy: 0.7287 - val_auroc: 0.9188\n",
      "Epoch 11/15\n",
      "56447/56447 [==============================] - 0s 3us/step - loss: 0.0473 - accuracy: 0.7204 - auroc: 0.9190 - val_loss: 0.0446 - val_accuracy: 0.7103 - val_auroc: 0.9213\n",
      "Epoch 12/15\n",
      "56447/56447 [==============================] - 0s 3us/step - loss: 0.0444 - accuracy: 0.7048 - auroc: 0.9192 - val_loss: 0.0432 - val_accuracy: 0.7039 - val_auroc: 0.9225\n",
      "Epoch 13/15\n",
      "56447/56447 [==============================] - 0s 3us/step - loss: 0.0435 - accuracy: 0.7027 - auroc: 0.9232 - val_loss: 0.0434 - val_accuracy: 0.7045 - val_auroc: 0.9227\n",
      "Epoch 14/15\n",
      "56447/56447 [==============================] - 0s 6us/step - loss: 0.0431 - accuracy: 0.7030 - auroc: 0.9224 - val_loss: 0.0433 - val_accuracy: 0.7069 - val_auroc: 0.9230\n",
      "Epoch 15/15\n",
      "56447/56447 [==============================] - 0s 3us/step - loss: 0.0427 - accuracy: 0.7089 - auroc: 0.9225 - val_loss: 0.0429 - val_accuracy: 0.7149 - val_auroc: 0.9230\n"
     ]
    },
    {
     "name": "stderr",
     "output_type": "stream",
     "text": [
      "/Users/jam/opt/anaconda3/lib/python3.7/site-packages/ipykernel_launcher.py:5: UserWarning: Update your `Dense` call to the Keras 2 API: `Dense(activation=\"tanh\", units=1)`\n",
      "  \"\"\"\n"
     ]
    },
    {
     "name": "stdout",
     "output_type": "stream",
     "text": [
      "Train on 56447 samples, validate on 24192 samples\n",
      "Epoch 1/15\n",
      "56447/56447 [==============================] - 0s 7us/step - loss: 0.1689 - accuracy: 0.8133 - auroc: 0.1067 - val_loss: 0.1594 - val_accuracy: 0.8056 - val_auroc: 0.0960\n",
      "Epoch 2/15\n",
      "56447/56447 [==============================] - 0s 4us/step - loss: 0.1689 - accuracy: 0.8007 - auroc: 0.1018 - val_loss: 0.1594 - val_accuracy: 0.8015 - val_auroc: 0.0954\n",
      "Epoch 3/15\n",
      "56447/56447 [==============================] - 0s 4us/step - loss: 0.1689 - accuracy: 0.7986 - auroc: 0.1021 - val_loss: 0.1594 - val_accuracy: 0.8006 - val_auroc: 0.0953\n",
      "Epoch 4/15\n",
      "56447/56447 [==============================] - 0s 4us/step - loss: 0.1689 - accuracy: 0.7980 - auroc: 0.1018 - val_loss: 0.1594 - val_accuracy: 0.8003 - val_auroc: 0.0953\n",
      "Epoch 5/15\n",
      "56447/56447 [==============================] - 0s 3us/step - loss: 0.1689 - accuracy: 0.7979 - auroc: 0.1001 - val_loss: 0.1594 - val_accuracy: 0.8003 - val_auroc: 0.0953\n",
      "Epoch 6/15\n",
      "56447/56447 [==============================] - 0s 4us/step - loss: 0.1689 - accuracy: 0.7979 - auroc: 0.0981 - val_loss: 0.1594 - val_accuracy: 0.8003 - val_auroc: 0.0953\n",
      "Epoch 7/15\n",
      "56447/56447 [==============================] - 0s 4us/step - loss: 0.1689 - accuracy: 0.7979 - auroc: 0.1031 - val_loss: 0.1594 - val_accuracy: 0.8003 - val_auroc: 0.0953\n",
      "Epoch 8/15\n",
      "56447/56447 [==============================] - 0s 4us/step - loss: 0.1689 - accuracy: 0.7979 - auroc: 0.1007 - val_loss: 0.1594 - val_accuracy: 0.8003 - val_auroc: 0.0953\n",
      "Epoch 9/15\n",
      "56447/56447 [==============================] - 0s 3us/step - loss: 0.1689 - accuracy: 0.7979 - auroc: 0.0999 - val_loss: 0.1594 - val_accuracy: 0.8003 - val_auroc: 0.0953\n",
      "Epoch 10/15\n",
      "56447/56447 [==============================] - 0s 3us/step - loss: 0.1689 - accuracy: 0.7979 - auroc: 0.1011 - val_loss: 0.1594 - val_accuracy: 0.8003 - val_auroc: 0.0953\n",
      "Epoch 11/15\n",
      "56447/56447 [==============================] - 0s 4us/step - loss: 0.1689 - accuracy: 0.7979 - auroc: 0.1017 - val_loss: 0.1594 - val_accuracy: 0.8003 - val_auroc: 0.0953\n",
      "Epoch 12/15\n",
      "56447/56447 [==============================] - 0s 5us/step - loss: 0.1689 - accuracy: 0.7979 - auroc: 0.1008 - val_loss: 0.1594 - val_accuracy: 0.8003 - val_auroc: 0.0953\n",
      "Epoch 13/15\n",
      "56447/56447 [==============================] - 0s 5us/step - loss: 0.1689 - accuracy: 0.7979 - auroc: 0.0985 - val_loss: 0.1594 - val_accuracy: 0.8003 - val_auroc: 0.0953\n",
      "Epoch 14/15\n",
      "56447/56447 [==============================] - 0s 4us/step - loss: 0.1689 - accuracy: 0.7979 - auroc: 0.1003 - val_loss: 0.1594 - val_accuracy: 0.8003 - val_auroc: 0.0953\n",
      "Epoch 15/15\n",
      "56447/56447 [==============================] - 0s 4us/step - loss: 0.1689 - accuracy: 0.7979 - auroc: 0.0994 - val_loss: 0.1594 - val_accuracy: 0.8003 - val_auroc: 0.0953\n"
     ]
    },
    {
     "name": "stderr",
     "output_type": "stream",
     "text": [
      "/Users/jam/opt/anaconda3/lib/python3.7/site-packages/ipykernel_launcher.py:5: UserWarning: Update your `Dense` call to the Keras 2 API: `Dense(activation=\"tanh\", units=1)`\n",
      "  \"\"\"\n"
     ]
    },
    {
     "name": "stdout",
     "output_type": "stream",
     "text": [
      "Train on 56447 samples, validate on 24192 samples\n",
      "Epoch 1/15\n",
      "56447/56447 [==============================] - 1s 11us/step - loss: 0.1330 - accuracy: 0.9559 - auroc: 0.8805 - val_loss: 0.0995 - val_accuracy: 0.9791 - val_auroc: 0.8383\n",
      "Epoch 2/15\n",
      "56447/56447 [==============================] - 0s 7us/step - loss: 0.0999 - accuracy: 0.9835 - auroc: 0.7373 - val_loss: 0.1122 - val_accuracy: 0.9837 - val_auroc: 0.6616\n",
      "Epoch 3/15\n",
      "56447/56447 [==============================] - 0s 7us/step - loss: 0.0972 - accuracy: 0.9846 - auroc: 0.7095 - val_loss: 0.1089 - val_accuracy: 0.9837 - val_auroc: 0.6650\n",
      "Epoch 4/15\n",
      "56447/56447 [==============================] - 1s 9us/step - loss: 0.0946 - accuracy: 0.9844 - auroc: 0.7110 - val_loss: 0.1055 - val_accuracy: 0.9844 - val_auroc: 0.6755\n",
      "Epoch 5/15\n",
      "56447/56447 [==============================] - 0s 5us/step - loss: 0.0924 - accuracy: 0.9848 - auroc: 0.7133 - val_loss: 0.1044 - val_accuracy: 0.9845 - val_auroc: 0.6789\n",
      "Epoch 6/15\n",
      "56447/56447 [==============================] - 0s 4us/step - loss: 0.0915 - accuracy: 0.9853 - auroc: 0.7210 - val_loss: 0.1020 - val_accuracy: 0.9848 - val_auroc: 0.6897\n",
      "Epoch 7/15\n",
      "56447/56447 [==============================] - 0s 6us/step - loss: 0.0909 - accuracy: 0.9857 - auroc: 0.7227 - val_loss: 0.0990 - val_accuracy: 0.9854 - val_auroc: 0.7080\n",
      "Epoch 8/15\n",
      "56447/56447 [==============================] - 0s 6us/step - loss: 0.0889 - accuracy: 0.9866 - auroc: 0.7313 - val_loss: 0.1004 - val_accuracy: 0.9859 - val_auroc: 0.6901\n",
      "Epoch 9/15\n",
      "56447/56447 [==============================] - 0s 9us/step - loss: 0.0892 - accuracy: 0.9863 - auroc: 0.7213 - val_loss: 0.1000 - val_accuracy: 0.9855 - val_auroc: 0.6830\n",
      "Epoch 10/15\n",
      "56447/56447 [==============================] - 0s 5us/step - loss: 0.0885 - accuracy: 0.9860 - auroc: 0.7219 - val_loss: 0.0982 - val_accuracy: 0.9860 - val_auroc: 0.6926\n",
      "Epoch 11/15\n",
      "56447/56447 [==============================] - 0s 6us/step - loss: 0.0850 - accuracy: 0.9867 - auroc: 0.7489 - val_loss: 0.0927 - val_accuracy: 0.9862 - val_auroc: 0.7473\n",
      "Epoch 12/15\n",
      "56447/56447 [==============================] - 0s 5us/step - loss: 0.0854 - accuracy: 0.9868 - auroc: 0.7475 - val_loss: 0.0957 - val_accuracy: 0.9859 - val_auroc: 0.6957\n",
      "Epoch 13/15\n",
      "56447/56447 [==============================] - 0s 5us/step - loss: 0.0856 - accuracy: 0.9860 - auroc: 0.7197 - val_loss: 0.0959 - val_accuracy: 0.9849 - val_auroc: 0.6775\n",
      "Epoch 14/15\n",
      "56447/56447 [==============================] - 0s 4us/step - loss: 0.0858 - accuracy: 0.9858 - auroc: 0.7223 - val_loss: 0.0958 - val_accuracy: 0.9852 - val_auroc: 0.6781\n",
      "Epoch 15/15\n",
      "56447/56447 [==============================] - 0s 4us/step - loss: 0.0861 - accuracy: 0.9861 - auroc: 0.7269 - val_loss: 0.0959 - val_accuracy: 0.9851 - val_auroc: 0.6768\n"
     ]
    },
    {
     "name": "stderr",
     "output_type": "stream",
     "text": [
      "/Users/jam/opt/anaconda3/lib/python3.7/site-packages/ipykernel_launcher.py:5: UserWarning: Update your `Dense` call to the Keras 2 API: `Dense(activation=\"tanh\", units=1)`\n",
      "  \"\"\"\n"
     ]
    },
    {
     "name": "stdout",
     "output_type": "stream",
     "text": [
      "Train on 56447 samples, validate on 24192 samples\n",
      "Epoch 1/15\n",
      "56447/56447 [==============================] - 1s 10us/step - loss: 0.1592 - accuracy: 0.9621 - auroc: 0.4725 - val_loss: 0.1545 - val_accuracy: 0.9662 - val_auroc: 0.5060\n",
      "Epoch 2/15\n",
      "56447/56447 [==============================] - 0s 4us/step - loss: 0.1375 - accuracy: 0.9683 - auroc: 0.5416 - val_loss: 0.1470 - val_accuracy: 0.9549 - val_auroc: 0.5247\n",
      "Epoch 3/15\n",
      "56447/56447 [==============================] - 0s 6us/step - loss: 0.1343 - accuracy: 0.9379 - auroc: 0.5060 - val_loss: 0.1469 - val_accuracy: 0.9222 - val_auroc: 0.4912\n",
      "Epoch 4/15\n",
      "56447/56447 [==============================] - 1s 13us/step - loss: 0.1280 - accuracy: 0.9275 - auroc: 0.5317 - val_loss: 0.1260 - val_accuracy: 0.9513 - val_auroc: 0.5898\n",
      "Epoch 5/15\n",
      "56447/56447 [==============================] - 0s 5us/step - loss: 0.1070 - accuracy: 0.9697 - auroc: 0.6574 - val_loss: 0.1202 - val_accuracy: 0.9671 - val_auroc: 0.6354\n",
      "Epoch 6/15\n",
      "56447/56447 [==============================] - 0s 4us/step - loss: 0.1010 - accuracy: 0.9688 - auroc: 0.7489 - val_loss: 0.0958 - val_accuracy: 0.9695 - val_auroc: 0.8504\n",
      "Epoch 7/15\n",
      "56447/56447 [==============================] - 1s 9us/step - loss: 0.0953 - accuracy: 0.9716 - auroc: 0.8271 - val_loss: 0.0973 - val_accuracy: 0.9696 - val_auroc: 0.8246\n",
      "Epoch 8/15\n",
      "56447/56447 [==============================] - 0s 6us/step - loss: 0.0864 - accuracy: 0.9709 - auroc: 0.8246 - val_loss: 0.0926 - val_accuracy: 0.9696 - val_auroc: 0.8191\n",
      "Epoch 9/15\n",
      "56447/56447 [==============================] - 1s 11us/step - loss: 0.0839 - accuracy: 0.9707 - auroc: 0.8157 - val_loss: 0.0899 - val_accuracy: 0.9696 - val_auroc: 0.8173\n",
      "Epoch 10/15\n",
      "56447/56447 [==============================] - 0s 4us/step - loss: 0.0835 - accuracy: 0.9713 - auroc: 0.8092 - val_loss: 0.0924 - val_accuracy: 0.9686 - val_auroc: 0.8060\n",
      "Epoch 11/15\n",
      "56447/56447 [==============================] - 0s 3us/step - loss: 0.0913 - accuracy: 0.9702 - auroc: 0.8138 - val_loss: 0.0996 - val_accuracy: 0.9711 - val_auroc: 0.8275\n",
      "Epoch 12/15\n",
      "56447/56447 [==============================] - 0s 4us/step - loss: 0.0880 - accuracy: 0.9706 - auroc: 0.8103 - val_loss: 0.0866 - val_accuracy: 0.9695 - val_auroc: 0.7946\n",
      "Epoch 13/15\n",
      "56447/56447 [==============================] - 0s 4us/step - loss: 0.0810 - accuracy: 0.9711 - auroc: 0.7938 - val_loss: 0.0883 - val_accuracy: 0.9695 - val_auroc: 0.7734\n",
      "Epoch 14/15\n",
      "56447/56447 [==============================] - 0s 6us/step - loss: 0.0825 - accuracy: 0.9698 - auroc: 0.7740 - val_loss: 0.0843 - val_accuracy: 0.9698 - val_auroc: 0.7656\n",
      "Epoch 15/15\n",
      "56447/56447 [==============================] - 0s 4us/step - loss: 0.0821 - accuracy: 0.9683 - auroc: 0.7510 - val_loss: 0.0875 - val_accuracy: 0.9683 - val_auroc: 0.7507\n"
     ]
    },
    {
     "name": "stderr",
     "output_type": "stream",
     "text": [
      "/Users/jam/opt/anaconda3/lib/python3.7/site-packages/ipykernel_launcher.py:5: UserWarning: Update your `Dense` call to the Keras 2 API: `Dense(activation=\"tanh\", units=1)`\n",
      "  \"\"\"\n"
     ]
    },
    {
     "name": "stdout",
     "output_type": "stream",
     "text": [
      "Train on 56447 samples, validate on 24192 samples\n",
      "Epoch 1/15\n",
      "56447/56447 [==============================] - 1s 10us/step - loss: 0.5822 - accuracy: 0.8267 - auroc: 0.8792 - val_loss: 0.3804 - val_accuracy: 0.8579 - val_auroc: 0.8907\n",
      "Epoch 2/15\n",
      "56447/56447 [==============================] - 0s 3us/step - loss: 0.2807 - accuracy: 0.8803 - auroc: 0.8643 - val_loss: 0.1818 - val_accuracy: 0.9170 - val_auroc: 0.8580\n",
      "Epoch 3/15\n",
      "56447/56447 [==============================] - 0s 5us/step - loss: 0.1455 - accuracy: 0.9484 - auroc: 0.8280 - val_loss: 0.1119 - val_accuracy: 0.9733 - val_auroc: 0.7953\n",
      "Epoch 4/15\n",
      "56447/56447 [==============================] - 0s 4us/step - loss: 0.1062 - accuracy: 0.9765 - auroc: 0.7585 - val_loss: 0.0940 - val_accuracy: 0.9819 - val_auroc: 0.7816\n",
      "Epoch 5/15\n",
      "56447/56447 [==============================] - 0s 9us/step - loss: 0.0896 - accuracy: 0.9828 - auroc: 0.7909 - val_loss: 0.0833 - val_accuracy: 0.9864 - val_auroc: 0.7991\n",
      "Epoch 6/15\n",
      "56447/56447 [==============================] - 0s 4us/step - loss: 0.0837 - accuracy: 0.9863 - auroc: 0.7950 - val_loss: 0.0797 - val_accuracy: 0.9877 - val_auroc: 0.7991\n",
      "Epoch 7/15\n",
      "56447/56447 [==============================] - 1s 10us/step - loss: 0.0782 - accuracy: 0.9872 - auroc: 0.8139 - val_loss: 0.0741 - val_accuracy: 0.9882 - val_auroc: 0.8262\n",
      "Epoch 8/15\n",
      "56447/56447 [==============================] - 0s 6us/step - loss: 0.0745 - accuracy: 0.9879 - auroc: 0.8329 - val_loss: 0.0712 - val_accuracy: 0.9883 - val_auroc: 0.8368\n",
      "Epoch 9/15\n",
      "56447/56447 [==============================] - 0s 4us/step - loss: 0.0704 - accuracy: 0.9884 - auroc: 0.8412 - val_loss: 0.0692 - val_accuracy: 0.9888 - val_auroc: 0.8448\n",
      "Epoch 10/15\n",
      "56447/56447 [==============================] - 0s 4us/step - loss: 0.0686 - accuracy: 0.9887 - auroc: 0.8473 - val_loss: 0.0676 - val_accuracy: 0.9890 - val_auroc: 0.8510\n",
      "Epoch 11/15\n",
      "56447/56447 [==============================] - 0s 7us/step - loss: 0.0671 - accuracy: 0.9889 - auroc: 0.8520 - val_loss: 0.0666 - val_accuracy: 0.9892 - val_auroc: 0.8595\n",
      "Epoch 12/15\n",
      "56447/56447 [==============================] - 0s 4us/step - loss: 0.0659 - accuracy: 0.9891 - auroc: 0.8642 - val_loss: 0.0656 - val_accuracy: 0.9891 - val_auroc: 0.8785\n",
      "Epoch 13/15\n",
      "56447/56447 [==============================] - 0s 5us/step - loss: 0.0641 - accuracy: 0.9894 - auroc: 0.8769 - val_loss: 0.0643 - val_accuracy: 0.9895 - val_auroc: 0.8845\n",
      "Epoch 14/15\n",
      "56447/56447 [==============================] - 0s 5us/step - loss: 0.0634 - accuracy: 0.9898 - auroc: 0.8812 - val_loss: 0.0644 - val_accuracy: 0.9900 - val_auroc: 0.8832\n",
      "Epoch 15/15\n",
      "56447/56447 [==============================] - 0s 4us/step - loss: 0.0629 - accuracy: 0.9902 - auroc: 0.8785 - val_loss: 0.0639 - val_accuracy: 0.9904 - val_auroc: 0.8908\n"
     ]
    },
    {
     "name": "stderr",
     "output_type": "stream",
     "text": [
      "/Users/jam/opt/anaconda3/lib/python3.7/site-packages/ipykernel_launcher.py:5: UserWarning: Update your `Dense` call to the Keras 2 API: `Dense(activation=\"tanh\", units=1)`\n",
      "  \"\"\"\n"
     ]
    },
    {
     "name": "stdout",
     "output_type": "stream",
     "text": [
      "Train on 56447 samples, validate on 24192 samples\n",
      "Epoch 1/15\n",
      "56447/56447 [==============================] - 1s 9us/step - loss: 0.1655 - accuracy: 0.8839 - auroc: 0.1934 - val_loss: 0.1626 - val_accuracy: 0.8685 - val_auroc: 0.2088\n",
      "Epoch 2/15\n",
      "56447/56447 [==============================] - 0s 5us/step - loss: 0.1620 - accuracy: 0.8619 - auroc: 0.2115 - val_loss: 0.1607 - val_accuracy: 0.8635 - val_auroc: 0.2642\n",
      "Epoch 3/15\n",
      "56447/56447 [==============================] - 0s 4us/step - loss: 0.1603 - accuracy: 0.8593 - auroc: 0.2669 - val_loss: 0.1606 - val_accuracy: 0.8606 - val_auroc: 0.3096\n",
      "Epoch 4/15\n",
      "56447/56447 [==============================] - 0s 4us/step - loss: 0.1485 - accuracy: 0.8699 - auroc: 0.3424 - val_loss: 0.1387 - val_accuracy: 0.8977 - val_auroc: 0.4104\n",
      "Epoch 5/15\n",
      "56447/56447 [==============================] - 0s 3us/step - loss: 0.1197 - accuracy: 0.9332 - auroc: 0.5313 - val_loss: 0.1045 - val_accuracy: 0.9616 - val_auroc: 0.6453\n",
      "Epoch 6/15\n",
      "56447/56447 [==============================] - 0s 3us/step - loss: 0.0875 - accuracy: 0.9603 - auroc: 0.7758 - val_loss: 0.0818 - val_accuracy: 0.9604 - val_auroc: 0.8230\n",
      "Epoch 7/15\n",
      "56447/56447 [==============================] - 0s 4us/step - loss: 0.0722 - accuracy: 0.9556 - auroc: 0.8440 - val_loss: 0.0785 - val_accuracy: 0.9556 - val_auroc: 0.8282\n",
      "Epoch 8/15\n",
      "56447/56447 [==============================] - 0s 4us/step - loss: 0.0698 - accuracy: 0.9515 - auroc: 0.8465 - val_loss: 0.0780 - val_accuracy: 0.9510 - val_auroc: 0.8236\n",
      "Epoch 9/15\n",
      "56447/56447 [==============================] - 0s 3us/step - loss: 0.0707 - accuracy: 0.9486 - auroc: 0.8550 - val_loss: 0.0784 - val_accuracy: 0.9513 - val_auroc: 0.8328\n",
      "Epoch 10/15\n",
      "56447/56447 [==============================] - 0s 3us/step - loss: 0.0696 - accuracy: 0.9486 - auroc: 0.8675 - val_loss: 0.0760 - val_accuracy: 0.9494 - val_auroc: 0.8372\n",
      "Epoch 11/15\n",
      "56447/56447 [==============================] - 0s 4us/step - loss: 0.0666 - accuracy: 0.9500 - auroc: 0.8677 - val_loss: 0.0735 - val_accuracy: 0.9534 - val_auroc: 0.8487\n",
      "Epoch 12/15\n",
      "56447/56447 [==============================] - 0s 5us/step - loss: 0.0650 - accuracy: 0.9538 - auroc: 0.8755 - val_loss: 0.0727 - val_accuracy: 0.9548 - val_auroc: 0.8508\n",
      "Epoch 13/15\n",
      "56447/56447 [==============================] - 0s 5us/step - loss: 0.0651 - accuracy: 0.9538 - auroc: 0.8722 - val_loss: 0.0720 - val_accuracy: 0.9557 - val_auroc: 0.8506\n",
      "Epoch 14/15\n",
      "56447/56447 [==============================] - 0s 3us/step - loss: 0.0637 - accuracy: 0.9553 - auroc: 0.8745 - val_loss: 0.0709 - val_accuracy: 0.9573 - val_auroc: 0.8523\n",
      "Epoch 15/15\n",
      "56447/56447 [==============================] - 0s 4us/step - loss: 0.0634 - accuracy: 0.9563 - auroc: 0.8724 - val_loss: 0.0703 - val_accuracy: 0.9584 - val_auroc: 0.8538\n"
     ]
    },
    {
     "name": "stderr",
     "output_type": "stream",
     "text": [
      "/Users/jam/opt/anaconda3/lib/python3.7/site-packages/ipykernel_launcher.py:5: UserWarning: Update your `Dense` call to the Keras 2 API: `Dense(activation=\"tanh\", units=1)`\n",
      "  \"\"\"\n"
     ]
    },
    {
     "name": "stdout",
     "output_type": "stream",
     "text": [
      "Train on 56447 samples, validate on 24192 samples\n",
      "Epoch 1/15\n",
      "56447/56447 [==============================] - 0s 9us/step - loss: 0.1050 - accuracy: 0.9878 - auroc: 0.8052 - val_loss: 0.0637 - val_accuracy: 0.9882 - val_auroc: 0.8944\n",
      "Epoch 2/15\n",
      "56447/56447 [==============================] - 0s 4us/step - loss: 0.0668 - accuracy: 0.9832 - auroc: 0.8944 - val_loss: 0.0611 - val_accuracy: 0.9727 - val_auroc: 0.9012\n",
      "Epoch 3/15\n",
      "56447/56447 [==============================] - 0s 4us/step - loss: 0.0666 - accuracy: 0.9676 - auroc: 0.8978 - val_loss: 0.0629 - val_accuracy: 0.9654 - val_auroc: 0.9101\n",
      "Epoch 4/15\n",
      "56447/56447 [==============================] - 0s 6us/step - loss: 0.0679 - accuracy: 0.9680 - auroc: 0.9005 - val_loss: 0.0583 - val_accuracy: 0.9686 - val_auroc: 0.9058\n",
      "Epoch 5/15\n",
      "56447/56447 [==============================] - 0s 4us/step - loss: 0.0671 - accuracy: 0.9698 - auroc: 0.8945 - val_loss: 0.0575 - val_accuracy: 0.9730 - val_auroc: 0.9120\n",
      "Epoch 6/15\n",
      "56447/56447 [==============================] - 0s 5us/step - loss: 0.0652 - accuracy: 0.9732 - auroc: 0.9027 - val_loss: 0.0566 - val_accuracy: 0.9735 - val_auroc: 0.9121\n",
      "Epoch 7/15\n",
      "56447/56447 [==============================] - 0s 4us/step - loss: 0.0632 - accuracy: 0.9760 - auroc: 0.9021 - val_loss: 0.0568 - val_accuracy: 0.9761 - val_auroc: 0.9120\n",
      "Epoch 8/15\n",
      "56447/56447 [==============================] - 0s 5us/step - loss: 0.0660 - accuracy: 0.9766 - auroc: 0.8990 - val_loss: 0.0574 - val_accuracy: 0.9765 - val_auroc: 0.9111\n",
      "Epoch 9/15\n",
      "56447/56447 [==============================] - 0s 4us/step - loss: 0.0624 - accuracy: 0.9767 - auroc: 0.9024 - val_loss: 0.0562 - val_accuracy: 0.9753 - val_auroc: 0.9149\n",
      "Epoch 10/15\n",
      "56447/56447 [==============================] - 0s 8us/step - loss: 0.0611 - accuracy: 0.9762 - auroc: 0.9054 - val_loss: 0.0542 - val_accuracy: 0.9773 - val_auroc: 0.9153\n",
      "Epoch 11/15\n",
      "56447/56447 [==============================] - 0s 5us/step - loss: 0.0605 - accuracy: 0.9832 - auroc: 0.9086 - val_loss: 0.0535 - val_accuracy: 0.9863 - val_auroc: 0.9170\n",
      "Epoch 12/15\n",
      "56447/56447 [==============================] - 0s 3us/step - loss: 0.0602 - accuracy: 0.9867 - auroc: 0.9035 - val_loss: 0.0530 - val_accuracy: 0.9865 - val_auroc: 0.9192\n",
      "Epoch 13/15\n",
      "56447/56447 [==============================] - 0s 3us/step - loss: 0.0614 - accuracy: 0.9860 - auroc: 0.9057 - val_loss: 0.0603 - val_accuracy: 0.9845 - val_auroc: 0.9210\n",
      "Epoch 14/15\n",
      "56447/56447 [==============================] - 0s 4us/step - loss: 0.0804 - accuracy: 0.9799 - auroc: 0.9061 - val_loss: 0.0788 - val_accuracy: 0.9782 - val_auroc: 0.9150\n",
      "Epoch 15/15\n",
      "56447/56447 [==============================] - 0s 5us/step - loss: 0.0800 - accuracy: 0.9780 - auroc: 0.8995 - val_loss: 0.0644 - val_accuracy: 0.9794 - val_auroc: 0.9122\n"
     ]
    },
    {
     "name": "stderr",
     "output_type": "stream",
     "text": [
      "/Users/jam/opt/anaconda3/lib/python3.7/site-packages/ipykernel_launcher.py:5: UserWarning: Update your `Dense` call to the Keras 2 API: `Dense(activation=\"tanh\", units=1)`\n",
      "  \"\"\"\n"
     ]
    },
    {
     "name": "stdout",
     "output_type": "stream",
     "text": [
      "Train on 56447 samples, validate on 24192 samples\n",
      "Epoch 1/15\n",
      "56447/56447 [==============================] - 1s 10us/step - loss: 0.1663 - accuracy: 0.6109 - auroc: 0.2054 - val_loss: 0.1698 - val_accuracy: 0.5057 - val_auroc: 0.2440\n",
      "Epoch 2/15\n",
      "56447/56447 [==============================] - 0s 4us/step - loss: 0.1645 - accuracy: 0.4720 - auroc: 0.2018 - val_loss: 0.1697 - val_accuracy: 0.4549 - val_auroc: 0.2480\n",
      "Epoch 3/15\n",
      "56447/56447 [==============================] - 0s 5us/step - loss: 0.1644 - accuracy: 0.4444 - auroc: 0.2099 - val_loss: 0.1696 - val_accuracy: 0.4396 - val_auroc: 0.2475\n",
      "Epoch 4/15\n",
      "56447/56447 [==============================] - 0s 5us/step - loss: 0.1643 - accuracy: 0.4327 - auroc: 0.2098 - val_loss: 0.1696 - val_accuracy: 0.4295 - val_auroc: 0.2469\n",
      "Epoch 5/15\n",
      "56447/56447 [==============================] - 0s 4us/step - loss: 0.1643 - accuracy: 0.4233 - auroc: 0.2020 - val_loss: 0.1696 - val_accuracy: 0.4175 - val_auroc: 0.2468\n",
      "Epoch 6/15\n",
      "56447/56447 [==============================] - 0s 5us/step - loss: 0.1643 - accuracy: 0.4124 - auroc: 0.2091 - val_loss: 0.1696 - val_accuracy: 0.4077 - val_auroc: 0.2467\n",
      "Epoch 7/15\n",
      "56447/56447 [==============================] - 0s 3us/step - loss: 0.1643 - accuracy: 0.4043 - auroc: 0.2061 - val_loss: 0.1696 - val_accuracy: 0.4006 - val_auroc: 0.2461\n",
      "Epoch 8/15\n",
      "56447/56447 [==============================] - 0s 5us/step - loss: 0.1643 - accuracy: 0.3977 - auroc: 0.2098 - val_loss: 0.1696 - val_accuracy: 0.3946 - val_auroc: 0.2434\n",
      "Epoch 9/15\n",
      "56447/56447 [==============================] - 0s 8us/step - loss: 0.1643 - accuracy: 0.3934 - auroc: 0.2018 - val_loss: 0.1696 - val_accuracy: 0.3906 - val_auroc: 0.2425\n",
      "Epoch 10/15\n",
      "56447/56447 [==============================] - 0s 4us/step - loss: 0.1643 - accuracy: 0.3913 - auroc: 0.2024 - val_loss: 0.1696 - val_accuracy: 0.3893 - val_auroc: 0.2427\n",
      "Epoch 11/15\n",
      "56447/56447 [==============================] - 0s 4us/step - loss: 0.1643 - accuracy: 0.3899 - auroc: 0.2020 - val_loss: 0.1696 - val_accuracy: 0.3867 - val_auroc: 0.2427\n",
      "Epoch 12/15\n",
      "56447/56447 [==============================] - 0s 4us/step - loss: 0.1643 - accuracy: 0.3876 - auroc: 0.2070 - val_loss: 0.1696 - val_accuracy: 0.3847 - val_auroc: 0.2422\n",
      "Epoch 13/15\n",
      "56447/56447 [==============================] - 0s 4us/step - loss: 0.1643 - accuracy: 0.3866 - auroc: 0.2056 - val_loss: 0.1696 - val_accuracy: 0.3850 - val_auroc: 0.2432\n",
      "Epoch 14/15\n",
      "56447/56447 [==============================] - 0s 4us/step - loss: 0.1643 - accuracy: 0.3858 - auroc: 0.2048 - val_loss: 0.1696 - val_accuracy: 0.3841 - val_auroc: 0.2439\n",
      "Epoch 15/15\n",
      "56447/56447 [==============================] - 0s 4us/step - loss: 0.1643 - accuracy: 0.3850 - auroc: 0.2062 - val_loss: 0.1696 - val_accuracy: 0.3833 - val_auroc: 0.2438\n"
     ]
    },
    {
     "name": "stderr",
     "output_type": "stream",
     "text": [
      "/Users/jam/opt/anaconda3/lib/python3.7/site-packages/ipykernel_launcher.py:5: UserWarning: Update your `Dense` call to the Keras 2 API: `Dense(activation=\"tanh\", units=1)`\n",
      "  \"\"\"\n"
     ]
    },
    {
     "name": "stdout",
     "output_type": "stream",
     "text": [
      "Train on 56447 samples, validate on 24192 samples\n",
      "Epoch 1/15\n",
      "56447/56447 [==============================] - 1s 11us/step - loss: 0.6000 - accuracy: 0.7369 - auroc: 0.6555 - val_loss: 0.4229 - val_accuracy: 0.8678 - val_auroc: 0.6739\n",
      "Epoch 2/15\n",
      "56447/56447 [==============================] - 0s 4us/step - loss: 0.2996 - accuracy: 0.9066 - auroc: 0.6594 - val_loss: 0.2037 - val_accuracy: 0.9477 - val_auroc: 0.6957\n",
      "Epoch 3/15\n",
      "56447/56447 [==============================] - 0s 5us/step - loss: 0.1586 - accuracy: 0.9578 - auroc: 0.7305 - val_loss: 0.1392 - val_accuracy: 0.9631 - val_auroc: 0.7666\n",
      "Epoch 4/15\n",
      "56447/56447 [==============================] - 0s 5us/step - loss: 0.1232 - accuracy: 0.9680 - auroc: 0.7843 - val_loss: 0.1191 - val_accuracy: 0.9716 - val_auroc: 0.8135\n",
      "Epoch 5/15\n",
      "56447/56447 [==============================] - 0s 4us/step - loss: 0.1046 - accuracy: 0.9745 - auroc: 0.8206 - val_loss: 0.1084 - val_accuracy: 0.9770 - val_auroc: 0.8204\n",
      "Epoch 6/15\n",
      "56447/56447 [==============================] - 0s 4us/step - loss: 0.0955 - accuracy: 0.9798 - auroc: 0.8315 - val_loss: 0.1009 - val_accuracy: 0.9806 - val_auroc: 0.8286\n",
      "Epoch 7/15\n",
      "56447/56447 [==============================] - 0s 7us/step - loss: 0.0884 - accuracy: 0.9827 - auroc: 0.8368 - val_loss: 0.0948 - val_accuracy: 0.9830 - val_auroc: 0.8351\n",
      "Epoch 8/15\n",
      "56447/56447 [==============================] - 0s 5us/step - loss: 0.0837 - accuracy: 0.9854 - auroc: 0.8404 - val_loss: 0.0896 - val_accuracy: 0.9850 - val_auroc: 0.8388\n",
      "Epoch 9/15\n",
      "56447/56447 [==============================] - 0s 5us/step - loss: 0.0784 - accuracy: 0.9871 - auroc: 0.8507 - val_loss: 0.0871 - val_accuracy: 0.9860 - val_auroc: 0.8398\n",
      "Epoch 10/15\n",
      "56447/56447 [==============================] - 0s 4us/step - loss: 0.0760 - accuracy: 0.9886 - auroc: 0.8475 - val_loss: 0.0842 - val_accuracy: 0.9876 - val_auroc: 0.8420\n",
      "Epoch 11/15\n",
      "56447/56447 [==============================] - 0s 5us/step - loss: 0.0724 - accuracy: 0.9894 - auroc: 0.8546 - val_loss: 0.0810 - val_accuracy: 0.9884 - val_auroc: 0.8483\n",
      "Epoch 12/15\n",
      "56447/56447 [==============================] - 0s 4us/step - loss: 0.0704 - accuracy: 0.9902 - auroc: 0.8574 - val_loss: 0.0813 - val_accuracy: 0.9892 - val_auroc: 0.8490\n",
      "Epoch 13/15\n",
      "56447/56447 [==============================] - 0s 5us/step - loss: 0.0691 - accuracy: 0.9906 - auroc: 0.8552 - val_loss: 0.0796 - val_accuracy: 0.9893 - val_auroc: 0.8515\n",
      "Epoch 14/15\n",
      "56447/56447 [==============================] - 0s 5us/step - loss: 0.0678 - accuracy: 0.9907 - auroc: 0.8580 - val_loss: 0.0792 - val_accuracy: 0.9895 - val_auroc: 0.8513\n",
      "Epoch 15/15\n",
      "56447/56447 [==============================] - 0s 5us/step - loss: 0.0670 - accuracy: 0.9908 - auroc: 0.8624 - val_loss: 0.0784 - val_accuracy: 0.9895 - val_auroc: 0.8555\n"
     ]
    },
    {
     "name": "stderr",
     "output_type": "stream",
     "text": [
      "/Users/jam/opt/anaconda3/lib/python3.7/site-packages/ipykernel_launcher.py:5: UserWarning: Update your `Dense` call to the Keras 2 API: `Dense(activation=\"tanh\", units=1)`\n",
      "  \"\"\"\n"
     ]
    },
    {
     "name": "stdout",
     "output_type": "stream",
     "text": [
      "Train on 56447 samples, validate on 24192 samples\n",
      "Epoch 1/15\n",
      "56447/56447 [==============================] - 1s 12us/step - loss: 0.1042 - accuracy: 0.8751 - auroc: 0.5680 - val_loss: 0.1158 - val_accuracy: 0.8565 - val_auroc: 0.5750\n",
      "Epoch 2/15\n",
      "56447/56447 [==============================] - 0s 4us/step - loss: 0.1037 - accuracy: 0.8094 - auroc: 0.5720 - val_loss: 0.1165 - val_accuracy: 0.7496 - val_auroc: 0.5735\n",
      "Epoch 3/15\n",
      "56447/56447 [==============================] - 0s 4us/step - loss: 0.1009 - accuracy: 0.6875 - auroc: 0.5902 - val_loss: 0.1135 - val_accuracy: 0.6345 - val_auroc: 0.5867\n",
      "Epoch 4/15\n",
      "56447/56447 [==============================] - 0s 5us/step - loss: 0.1006 - accuracy: 0.6176 - auroc: 0.5921 - val_loss: 0.1134 - val_accuracy: 0.5881 - val_auroc: 0.5864\n",
      "Epoch 5/15\n",
      "56447/56447 [==============================] - 0s 5us/step - loss: 0.1013 - accuracy: 0.5795 - auroc: 0.5796 - val_loss: 0.1108 - val_accuracy: 0.6104 - val_auroc: 0.6004\n",
      "Epoch 6/15\n",
      "56447/56447 [==============================] - 0s 4us/step - loss: 0.0996 - accuracy: 0.5973 - auroc: 0.5954 - val_loss: 0.1137 - val_accuracy: 0.6056 - val_auroc: 0.5873\n",
      "Epoch 7/15\n",
      "56447/56447 [==============================] - 0s 4us/step - loss: 0.0999 - accuracy: 0.5999 - auroc: 0.5860 - val_loss: 0.1114 - val_accuracy: 0.6143 - val_auroc: 0.5924\n",
      "Epoch 8/15\n",
      "56447/56447 [==============================] - 0s 4us/step - loss: 0.1000 - accuracy: 0.5990 - auroc: 0.5896 - val_loss: 0.1123 - val_accuracy: 0.6071 - val_auroc: 0.5901\n",
      "Epoch 9/15\n",
      "56447/56447 [==============================] - 0s 5us/step - loss: 0.0980 - accuracy: 0.6289 - auroc: 0.6206 - val_loss: 0.1070 - val_accuracy: 0.6369 - val_auroc: 0.6162\n",
      "Epoch 10/15\n",
      "56447/56447 [==============================] - 0s 5us/step - loss: 0.0996 - accuracy: 0.5892 - auroc: 0.6005 - val_loss: 0.1154 - val_accuracy: 0.5775 - val_auroc: 0.5836\n",
      "Epoch 11/15\n",
      "56447/56447 [==============================] - 0s 4us/step - loss: 0.0990 - accuracy: 0.6128 - auroc: 0.6007 - val_loss: 0.1084 - val_accuracy: 0.6389 - val_auroc: 0.6044\n",
      "Epoch 12/15\n",
      "56447/56447 [==============================] - 0s 6us/step - loss: 0.0958 - accuracy: 0.6982 - auroc: 0.6464 - val_loss: 0.1032 - val_accuracy: 0.7709 - val_auroc: 0.6477\n",
      "Epoch 13/15\n",
      "56447/56447 [==============================] - 0s 5us/step - loss: 0.0952 - accuracy: 0.8205 - auroc: 0.6454 - val_loss: 0.1056 - val_accuracy: 0.8402 - val_auroc: 0.6131\n",
      "Epoch 14/15\n",
      "56447/56447 [==============================] - 0s 5us/step - loss: 0.0927 - accuracy: 0.9021 - auroc: 0.6842 - val_loss: 0.0959 - val_accuracy: 0.9239 - val_auroc: 0.7041\n",
      "Epoch 15/15\n",
      "56447/56447 [==============================] - 1s 9us/step - loss: 0.0910 - accuracy: 0.9198 - auroc: 0.7006 - val_loss: 0.1043 - val_accuracy: 0.8884 - val_auroc: 0.6203\n"
     ]
    },
    {
     "name": "stderr",
     "output_type": "stream",
     "text": [
      "/Users/jam/opt/anaconda3/lib/python3.7/site-packages/ipykernel_launcher.py:5: UserWarning: Update your `Dense` call to the Keras 2 API: `Dense(activation=\"tanh\", units=1)`\n",
      "  \"\"\"\n"
     ]
    },
    {
     "name": "stdout",
     "output_type": "stream",
     "text": [
      "Train on 56447 samples, validate on 24192 samples\n",
      "Epoch 1/15\n",
      "56447/56447 [==============================] - 1s 13us/step - loss: 0.1906 - accuracy: 0.9485 - auroc: 0.7923 - val_loss: 0.1404 - val_accuracy: 0.9656 - val_auroc: 0.6378\n",
      "Epoch 2/15\n",
      "56447/56447 [==============================] - 0s 5us/step - loss: 0.1127 - accuracy: 0.9707 - auroc: 0.7453 - val_loss: 0.0974 - val_accuracy: 0.9749 - val_auroc: 0.7496\n",
      "Epoch 3/15\n",
      "56447/56447 [==============================] - 0s 4us/step - loss: 0.0839 - accuracy: 0.9776 - auroc: 0.8069 - val_loss: 0.0897 - val_accuracy: 0.9824 - val_auroc: 0.7646\n",
      "Epoch 4/15\n",
      "56447/56447 [==============================] - 0s 4us/step - loss: 0.0769 - accuracy: 0.9831 - auroc: 0.8260 - val_loss: 0.0821 - val_accuracy: 0.9846 - val_auroc: 0.7892\n",
      "Epoch 5/15\n",
      "56447/56447 [==============================] - 0s 5us/step - loss: 0.0729 - accuracy: 0.9860 - auroc: 0.8244 - val_loss: 0.0799 - val_accuracy: 0.9878 - val_auroc: 0.7644\n",
      "Epoch 6/15\n",
      "56447/56447 [==============================] - 0s 3us/step - loss: 0.0687 - accuracy: 0.9881 - auroc: 0.8237 - val_loss: 0.0733 - val_accuracy: 0.9885 - val_auroc: 0.7904\n",
      "Epoch 7/15\n",
      "56447/56447 [==============================] - 0s 5us/step - loss: 0.0659 - accuracy: 0.9888 - auroc: 0.8331 - val_loss: 0.0708 - val_accuracy: 0.9893 - val_auroc: 0.7964\n",
      "Epoch 8/15\n",
      "56447/56447 [==============================] - 0s 4us/step - loss: 0.0641 - accuracy: 0.9896 - auroc: 0.8266 - val_loss: 0.0709 - val_accuracy: 0.9900 - val_auroc: 0.7836\n",
      "Epoch 9/15\n",
      "56447/56447 [==============================] - 0s 6us/step - loss: 0.0632 - accuracy: 0.9900 - auroc: 0.8277 - val_loss: 0.0691 - val_accuracy: 0.9899 - val_auroc: 0.7923\n",
      "Epoch 10/15\n",
      "56447/56447 [==============================] - 0s 4us/step - loss: 0.0625 - accuracy: 0.9900 - auroc: 0.8287 - val_loss: 0.0671 - val_accuracy: 0.9896 - val_auroc: 0.7974\n",
      "Epoch 11/15\n",
      "56447/56447 [==============================] - 0s 6us/step - loss: 0.0624 - accuracy: 0.9901 - auroc: 0.8346 - val_loss: 0.0647 - val_accuracy: 0.9899 - val_auroc: 0.8120\n",
      "Epoch 12/15\n",
      "56447/56447 [==============================] - 0s 8us/step - loss: 0.0624 - accuracy: 0.9889 - auroc: 0.8611 - val_loss: 0.0731 - val_accuracy: 0.9885 - val_auroc: 0.8442\n",
      "Epoch 13/15\n",
      "56447/56447 [==============================] - 0s 6us/step - loss: 0.0644 - accuracy: 0.9888 - auroc: 0.8696 - val_loss: 0.0648 - val_accuracy: 0.9892 - val_auroc: 0.8247\n",
      "Epoch 14/15\n",
      "56447/56447 [==============================] - 0s 5us/step - loss: 0.0601 - accuracy: 0.9904 - auroc: 0.8480 - val_loss: 0.0642 - val_accuracy: 0.9897 - val_auroc: 0.8189\n",
      "Epoch 15/15\n",
      "56447/56447 [==============================] - 0s 6us/step - loss: 0.0594 - accuracy: 0.9905 - auroc: 0.8547 - val_loss: 0.0646 - val_accuracy: 0.9896 - val_auroc: 0.8180\n"
     ]
    },
    {
     "name": "stderr",
     "output_type": "stream",
     "text": [
      "/Users/jam/opt/anaconda3/lib/python3.7/site-packages/ipykernel_launcher.py:5: UserWarning: Update your `Dense` call to the Keras 2 API: `Dense(activation=\"tanh\", units=1)`\n",
      "  \"\"\"\n"
     ]
    },
    {
     "name": "stdout",
     "output_type": "stream",
     "text": [
      "Train on 56447 samples, validate on 24192 samples\n",
      "Epoch 1/15\n",
      "56447/56447 [==============================] - 1s 9us/step - loss: 0.3658 - accuracy: 0.8784 - auroc: 0.8365 - val_loss: 0.2137 - val_accuracy: 0.9084 - val_auroc: 0.8843\n",
      "Epoch 2/15\n",
      "56447/56447 [==============================] - 0s 4us/step - loss: 0.1647 - accuracy: 0.9299 - auroc: 0.8745 - val_loss: 0.1152 - val_accuracy: 0.9596 - val_auroc: 0.8819\n",
      "Epoch 3/15\n",
      "56447/56447 [==============================] - 0s 3us/step - loss: 0.1025 - accuracy: 0.9772 - auroc: 0.8707 - val_loss: 0.0828 - val_accuracy: 0.9863 - val_auroc: 0.8819\n",
      "Epoch 4/15\n",
      "56447/56447 [==============================] - 0s 4us/step - loss: 0.0820 - accuracy: 0.9857 - auroc: 0.8708 - val_loss: 0.0704 - val_accuracy: 0.9881 - val_auroc: 0.8795\n",
      "Epoch 5/15\n",
      "56447/56447 [==============================] - 0s 3us/step - loss: 0.0724 - accuracy: 0.9880 - auroc: 0.8697 - val_loss: 0.0613 - val_accuracy: 0.9893 - val_auroc: 0.8776\n",
      "Epoch 6/15\n",
      "56447/56447 [==============================] - 0s 4us/step - loss: 0.0645 - accuracy: 0.9889 - auroc: 0.8667 - val_loss: 0.0573 - val_accuracy: 0.9905 - val_auroc: 0.8803\n",
      "Epoch 7/15\n",
      "56447/56447 [==============================] - 0s 4us/step - loss: 0.0636 - accuracy: 0.9897 - auroc: 0.8753 - val_loss: 0.0565 - val_accuracy: 0.9909 - val_auroc: 0.8862\n",
      "Epoch 8/15\n",
      "56447/56447 [==============================] - 0s 4us/step - loss: 0.0606 - accuracy: 0.9895 - auroc: 0.8789 - val_loss: 0.0526 - val_accuracy: 0.9908 - val_auroc: 0.8855\n",
      "Epoch 9/15\n",
      "56447/56447 [==============================] - 0s 6us/step - loss: 0.0576 - accuracy: 0.9894 - auroc: 0.8764 - val_loss: 0.0529 - val_accuracy: 0.9909 - val_auroc: 0.8796\n",
      "Epoch 10/15\n",
      "56447/56447 [==============================] - 0s 5us/step - loss: 0.0573 - accuracy: 0.9897 - auroc: 0.8742 - val_loss: 0.0487 - val_accuracy: 0.9913 - val_auroc: 0.8819\n",
      "Epoch 11/15\n",
      "56447/56447 [==============================] - 0s 4us/step - loss: 0.0553 - accuracy: 0.9899 - auroc: 0.8775 - val_loss: 0.0485 - val_accuracy: 0.9918 - val_auroc: 0.8871\n",
      "Epoch 12/15\n",
      "56447/56447 [==============================] - 0s 4us/step - loss: 0.0546 - accuracy: 0.9904 - auroc: 0.8871 - val_loss: 0.0479 - val_accuracy: 0.9921 - val_auroc: 0.8916\n",
      "Epoch 13/15\n",
      "56447/56447 [==============================] - 0s 4us/step - loss: 0.0519 - accuracy: 0.9905 - auroc: 0.8843 - val_loss: 0.0467 - val_accuracy: 0.9919 - val_auroc: 0.8932\n",
      "Epoch 14/15\n",
      "56447/56447 [==============================] - 0s 4us/step - loss: 0.0506 - accuracy: 0.9904 - auroc: 0.8877 - val_loss: 0.0462 - val_accuracy: 0.9921 - val_auroc: 0.8979\n",
      "Epoch 15/15\n",
      "56447/56447 [==============================] - 0s 3us/step - loss: 0.0506 - accuracy: 0.9904 - auroc: 0.8924 - val_loss: 0.0451 - val_accuracy: 0.9919 - val_auroc: 0.8963\n"
     ]
    },
    {
     "name": "stderr",
     "output_type": "stream",
     "text": [
      "/Users/jam/opt/anaconda3/lib/python3.7/site-packages/ipykernel_launcher.py:5: UserWarning: Update your `Dense` call to the Keras 2 API: `Dense(activation=\"tanh\", units=1)`\n",
      "  \"\"\"\n"
     ]
    },
    {
     "name": "stdout",
     "output_type": "stream",
     "text": [
      "Train on 56447 samples, validate on 24192 samples\n",
      "Epoch 1/15\n",
      "56447/56447 [==============================] - 1s 9us/step - loss: 0.1115 - accuracy: 0.8913 - auroc: 0.5003 - val_loss: 0.1184 - val_accuracy: 0.8700 - val_auroc: 0.4977\n",
      "Epoch 2/15\n",
      "56447/56447 [==============================] - 0s 3us/step - loss: 0.1044 - accuracy: 0.8674 - auroc: 0.5299 - val_loss: 0.1124 - val_accuracy: 0.8804 - val_auroc: 0.5420\n",
      "Epoch 3/15\n",
      "56447/56447 [==============================] - 0s 3us/step - loss: 0.1009 - accuracy: 0.8898 - auroc: 0.5784 - val_loss: 0.1121 - val_accuracy: 0.9052 - val_auroc: 0.5813\n",
      "Epoch 4/15\n",
      "56447/56447 [==============================] - 0s 4us/step - loss: 0.0995 - accuracy: 0.9071 - auroc: 0.5924 - val_loss: 0.1120 - val_accuracy: 0.8982 - val_auroc: 0.5754\n",
      "Epoch 5/15\n",
      "56447/56447 [==============================] - 0s 4us/step - loss: 0.1011 - accuracy: 0.8905 - auroc: 0.5796 - val_loss: 0.1118 - val_accuracy: 0.8771 - val_auroc: 0.5533\n",
      "Epoch 6/15\n",
      "56447/56447 [==============================] - 0s 4us/step - loss: 0.1016 - accuracy: 0.8718 - auroc: 0.5568 - val_loss: 0.1141 - val_accuracy: 0.8637 - val_auroc: 0.5444\n",
      "Epoch 7/15\n",
      "56447/56447 [==============================] - 0s 4us/step - loss: 0.1019 - accuracy: 0.8658 - auroc: 0.5547 - val_loss: 0.1135 - val_accuracy: 0.8644 - val_auroc: 0.5493\n",
      "Epoch 8/15\n",
      "56447/56447 [==============================] - 0s 6us/step - loss: 0.1018 - accuracy: 0.8632 - auroc: 0.5527 - val_loss: 0.1143 - val_accuracy: 0.8564 - val_auroc: 0.5440\n",
      "Epoch 9/15\n",
      "56447/56447 [==============================] - 0s 5us/step - loss: 0.1017 - accuracy: 0.8590 - auroc: 0.5510 - val_loss: 0.1143 - val_accuracy: 0.8548 - val_auroc: 0.5449\n",
      "Epoch 10/15\n",
      "56447/56447 [==============================] - 0s 4us/step - loss: 0.1016 - accuracy: 0.8565 - auroc: 0.5538 - val_loss: 0.1138 - val_accuracy: 0.8528 - val_auroc: 0.5454\n",
      "Epoch 11/15\n",
      "56447/56447 [==============================] - 0s 4us/step - loss: 0.1016 - accuracy: 0.8545 - auroc: 0.5528 - val_loss: 0.1137 - val_accuracy: 0.8511 - val_auroc: 0.5460\n",
      "Epoch 12/15\n",
      "56447/56447 [==============================] - 0s 4us/step - loss: 0.1016 - accuracy: 0.8529 - auroc: 0.5490 - val_loss: 0.1136 - val_accuracy: 0.8497 - val_auroc: 0.5473\n",
      "Epoch 13/15\n",
      "56447/56447 [==============================] - 0s 4us/step - loss: 0.1015 - accuracy: 0.8514 - auroc: 0.5530 - val_loss: 0.1140 - val_accuracy: 0.8469 - val_auroc: 0.5461\n",
      "Epoch 14/15\n",
      "56447/56447 [==============================] - 0s 5us/step - loss: 0.1011 - accuracy: 0.8496 - auroc: 0.5547 - val_loss: 0.1124 - val_accuracy: 0.8483 - val_auroc: 0.5464\n",
      "Epoch 15/15\n",
      "56447/56447 [==============================] - 0s 3us/step - loss: 0.1009 - accuracy: 0.8484 - auroc: 0.5438 - val_loss: 0.1127 - val_accuracy: 0.8443 - val_auroc: 0.5426\n"
     ]
    }
   ],
   "source": [
    "for first_layer in [10,10]:\n",
    "    for second_layer in [7,7]:\n",
    "        for epoch in [15,15]:\n",
    "            for batchsize in [3200,3200]:\n",
    "                keras.backend.clear_session()\n",
    "                x_train,x_test,y_train,y_test = train_test_split(X,Y,test_size = 0.3)\n",
    "                m = train_model(first_layer, second_layer, epoch, batchsize)\n",
    "                fdr_train = FDR(x_train,y_train,m)\n",
    "                fdr_test = FDR(x_test,y_test,m)\n",
    "                fdr_oot = FDR(x_oot,y_oot,m)\n",
    "                result = result.append({'first_layer':first_layer,'second_layer':second_layer, 'epoch':epoch,'batchsize':batchsize,'train_fdr':fdr_train,'test_fdr':fdr_test,'oot_fdr':fdr_oot}, ignore_index = True)"
   ]
  },
  {
   "cell_type": "code",
   "execution_count": 135,
   "metadata": {},
   "outputs": [
    {
     "data": {
      "text/html": [
       "<div>\n",
       "<style scoped>\n",
       "    .dataframe tbody tr th:only-of-type {\n",
       "        vertical-align: middle;\n",
       "    }\n",
       "\n",
       "    .dataframe tbody tr th {\n",
       "        vertical-align: top;\n",
       "    }\n",
       "\n",
       "    .dataframe thead th {\n",
       "        text-align: right;\n",
       "    }\n",
       "</style>\n",
       "<table border=\"1\" class=\"dataframe\">\n",
       "  <thead>\n",
       "    <tr style=\"text-align: right;\">\n",
       "      <th></th>\n",
       "      <th>first_layer</th>\n",
       "      <th>second_layer</th>\n",
       "      <th>epoch</th>\n",
       "      <th>batchsize</th>\n",
       "      <th>train_fdr</th>\n",
       "      <th>test_fdr</th>\n",
       "      <th>oot_fdr</th>\n",
       "    </tr>\n",
       "  </thead>\n",
       "  <tbody>\n",
       "    <tr>\n",
       "      <td>0</td>\n",
       "      <td>10.0</td>\n",
       "      <td>7.0</td>\n",
       "      <td>15.0</td>\n",
       "      <td>3200.0</td>\n",
       "      <td>0.483553</td>\n",
       "      <td>0.515385</td>\n",
       "      <td>0.469274</td>\n",
       "    </tr>\n",
       "    <tr>\n",
       "      <td>1</td>\n",
       "      <td>10.0</td>\n",
       "      <td>7.0</td>\n",
       "      <td>15.0</td>\n",
       "      <td>3200.0</td>\n",
       "      <td>0.104478</td>\n",
       "      <td>0.128302</td>\n",
       "      <td>0.134078</td>\n",
       "    </tr>\n",
       "    <tr>\n",
       "      <td>2</td>\n",
       "      <td>10.0</td>\n",
       "      <td>7.0</td>\n",
       "      <td>15.0</td>\n",
       "      <td>3200.0</td>\n",
       "      <td>0.583748</td>\n",
       "      <td>0.566038</td>\n",
       "      <td>0.290503</td>\n",
       "    </tr>\n",
       "    <tr>\n",
       "      <td>3</td>\n",
       "      <td>10.0</td>\n",
       "      <td>7.0</td>\n",
       "      <td>15.0</td>\n",
       "      <td>3200.0</td>\n",
       "      <td>0.620521</td>\n",
       "      <td>0.614173</td>\n",
       "      <td>0.351955</td>\n",
       "    </tr>\n",
       "    <tr>\n",
       "      <td>4</td>\n",
       "      <td>10.0</td>\n",
       "      <td>7.0</td>\n",
       "      <td>15.0</td>\n",
       "      <td>3200.0</td>\n",
       "      <td>0.004854</td>\n",
       "      <td>0.000000</td>\n",
       "      <td>0.005587</td>\n",
       "    </tr>\n",
       "    <tr>\n",
       "      <td>5</td>\n",
       "      <td>10.0</td>\n",
       "      <td>7.0</td>\n",
       "      <td>15.0</td>\n",
       "      <td>3200.0</td>\n",
       "      <td>0.486532</td>\n",
       "      <td>0.489051</td>\n",
       "      <td>0.307263</td>\n",
       "    </tr>\n",
       "    <tr>\n",
       "      <td>6</td>\n",
       "      <td>10.0</td>\n",
       "      <td>7.0</td>\n",
       "      <td>15.0</td>\n",
       "      <td>3200.0</td>\n",
       "      <td>0.584041</td>\n",
       "      <td>0.602151</td>\n",
       "      <td>0.240223</td>\n",
       "    </tr>\n",
       "    <tr>\n",
       "      <td>7</td>\n",
       "      <td>10.0</td>\n",
       "      <td>7.0</td>\n",
       "      <td>15.0</td>\n",
       "      <td>3200.0</td>\n",
       "      <td>0.646382</td>\n",
       "      <td>0.646154</td>\n",
       "      <td>0.251397</td>\n",
       "    </tr>\n",
       "    <tr>\n",
       "      <td>8</td>\n",
       "      <td>10.0</td>\n",
       "      <td>7.0</td>\n",
       "      <td>15.0</td>\n",
       "      <td>3200.0</td>\n",
       "      <td>0.654605</td>\n",
       "      <td>0.611538</td>\n",
       "      <td>0.217877</td>\n",
       "    </tr>\n",
       "    <tr>\n",
       "      <td>9</td>\n",
       "      <td>10.0</td>\n",
       "      <td>7.0</td>\n",
       "      <td>15.0</td>\n",
       "      <td>3200.0</td>\n",
       "      <td>0.584288</td>\n",
       "      <td>0.638132</td>\n",
       "      <td>0.217877</td>\n",
       "    </tr>\n",
       "    <tr>\n",
       "      <td>10</td>\n",
       "      <td>10.0</td>\n",
       "      <td>7.0</td>\n",
       "      <td>15.0</td>\n",
       "      <td>3200.0</td>\n",
       "      <td>0.008306</td>\n",
       "      <td>0.000000</td>\n",
       "      <td>0.022346</td>\n",
       "    </tr>\n",
       "    <tr>\n",
       "      <td>11</td>\n",
       "      <td>10.0</td>\n",
       "      <td>7.0</td>\n",
       "      <td>15.0</td>\n",
       "      <td>3200.0</td>\n",
       "      <td>0.610455</td>\n",
       "      <td>0.560000</td>\n",
       "      <td>0.418994</td>\n",
       "    </tr>\n",
       "    <tr>\n",
       "      <td>12</td>\n",
       "      <td>10.0</td>\n",
       "      <td>7.0</td>\n",
       "      <td>15.0</td>\n",
       "      <td>3200.0</td>\n",
       "      <td>0.485618</td>\n",
       "      <td>0.472924</td>\n",
       "      <td>0.301676</td>\n",
       "    </tr>\n",
       "    <tr>\n",
       "      <td>13</td>\n",
       "      <td>10.0</td>\n",
       "      <td>7.0</td>\n",
       "      <td>15.0</td>\n",
       "      <td>3200.0</td>\n",
       "      <td>0.633826</td>\n",
       "      <td>0.613900</td>\n",
       "      <td>0.497207</td>\n",
       "    </tr>\n",
       "    <tr>\n",
       "      <td>14</td>\n",
       "      <td>10.0</td>\n",
       "      <td>7.0</td>\n",
       "      <td>15.0</td>\n",
       "      <td>3200.0</td>\n",
       "      <td>0.649123</td>\n",
       "      <td>0.663900</td>\n",
       "      <td>0.502793</td>\n",
       "    </tr>\n",
       "    <tr>\n",
       "      <td>15</td>\n",
       "      <td>10.0</td>\n",
       "      <td>7.0</td>\n",
       "      <td>15.0</td>\n",
       "      <td>3200.0</td>\n",
       "      <td>0.421320</td>\n",
       "      <td>0.400722</td>\n",
       "      <td>0.307263</td>\n",
       "    </tr>\n",
       "  </tbody>\n",
       "</table>\n",
       "</div>"
      ],
      "text/plain": [
       "    first_layer  second_layer  epoch  batchsize  train_fdr  test_fdr   oot_fdr\n",
       "0          10.0           7.0   15.0     3200.0   0.483553  0.515385  0.469274\n",
       "1          10.0           7.0   15.0     3200.0   0.104478  0.128302  0.134078\n",
       "2          10.0           7.0   15.0     3200.0   0.583748  0.566038  0.290503\n",
       "3          10.0           7.0   15.0     3200.0   0.620521  0.614173  0.351955\n",
       "4          10.0           7.0   15.0     3200.0   0.004854  0.000000  0.005587\n",
       "5          10.0           7.0   15.0     3200.0   0.486532  0.489051  0.307263\n",
       "6          10.0           7.0   15.0     3200.0   0.584041  0.602151  0.240223\n",
       "7          10.0           7.0   15.0     3200.0   0.646382  0.646154  0.251397\n",
       "8          10.0           7.0   15.0     3200.0   0.654605  0.611538  0.217877\n",
       "9          10.0           7.0   15.0     3200.0   0.584288  0.638132  0.217877\n",
       "10         10.0           7.0   15.0     3200.0   0.008306  0.000000  0.022346\n",
       "11         10.0           7.0   15.0     3200.0   0.610455  0.560000  0.418994\n",
       "12         10.0           7.0   15.0     3200.0   0.485618  0.472924  0.301676\n",
       "13         10.0           7.0   15.0     3200.0   0.633826  0.613900  0.497207\n",
       "14         10.0           7.0   15.0     3200.0   0.649123  0.663900  0.502793\n",
       "15         10.0           7.0   15.0     3200.0   0.421320  0.400722  0.307263"
      ]
     },
     "execution_count": 135,
     "metadata": {},
     "output_type": "execute_result"
    }
   ],
   "source": [
    "result"
   ]
  },
  {
   "cell_type": "code",
   "execution_count": 136,
   "metadata": {},
   "outputs": [],
   "source": [
    "result.to_csv('result1_neural_net.csv')"
   ]
  },
  {
   "cell_type": "code",
   "execution_count": null,
   "metadata": {},
   "outputs": [],
   "source": []
  }
 ],
 "metadata": {
  "kernelspec": {
   "display_name": "Python 3",
   "language": "python",
   "name": "python3"
  },
  "language_info": {
   "codemirror_mode": {
    "name": "ipython",
    "version": 3
   },
   "file_extension": ".py",
   "mimetype": "text/x-python",
   "name": "python",
   "nbconvert_exporter": "python",
   "pygments_lexer": "ipython3",
   "version": "3.7.4"
  }
 },
 "nbformat": 4,
 "nbformat_minor": 2
}
