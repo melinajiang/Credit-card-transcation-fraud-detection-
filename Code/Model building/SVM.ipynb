{
 "cells": [
  {
   "cell_type": "code",
   "execution_count": 1,
   "metadata": {},
   "outputs": [],
   "source": [
    "import pandas as pd\n",
    "import numpy as np\n",
    "from sklearn.model_selection import train_test_split\n",
    "from sklearn.model_selection import StratifiedKFold\n",
    "from sklearn.model_selection import GridSearchCV\n",
    "from sklearn.linear_model import LogisticRegression\n",
    "from sklearn import svm\n",
    "import time\n",
    "from sklearn.ensemble import BaggingClassifier"
   ]
  },
  {
   "cell_type": "code",
   "execution_count": 2,
   "metadata": {},
   "outputs": [],
   "source": [
    "data_all=pd.read_csv('final_selected_variables.csv',index_col=0)"
   ]
  },
  {
   "cell_type": "code",
   "execution_count": 3,
   "metadata": {},
   "outputs": [
    {
     "data": {
      "text/html": [
       "<div>\n",
       "<style scoped>\n",
       "    .dataframe tbody tr th:only-of-type {\n",
       "        vertical-align: middle;\n",
       "    }\n",
       "\n",
       "    .dataframe tbody tr th {\n",
       "        vertical-align: top;\n",
       "    }\n",
       "\n",
       "    .dataframe thead th {\n",
       "        text-align: right;\n",
       "    }\n",
       "</style>\n",
       "<table border=\"1\" class=\"dataframe\">\n",
       "  <thead>\n",
       "    <tr style=\"text-align: right;\">\n",
       "      <th></th>\n",
       "      <th>Merch_description_part_count0__max</th>\n",
       "      <th>Merchnum_count0__max</th>\n",
       "      <th>Merchnum_count1__max</th>\n",
       "      <th>Merchnum_count1__sum</th>\n",
       "      <th>Merchnum_count3__max</th>\n",
       "      <th>cardnum-merch_description_part_count14__max</th>\n",
       "      <th>cardnum-merch_description_part_count14__sum</th>\n",
       "      <th>cardnum-merch_description_part_count30__max</th>\n",
       "      <th>cardnum-merch_description_part_count3__sum</th>\n",
       "      <th>cardnum-merch_state_count14__max</th>\n",
       "      <th>...</th>\n",
       "      <th>cardnum-merch_state_merch_zip_count3__sum</th>\n",
       "      <th>cardnum-merch_zip_count14__max</th>\n",
       "      <th>cardnum-merchnum_count14__max</th>\n",
       "      <th>cardnum-merchnum_count14__sum</th>\n",
       "      <th>cardnum-merchnum_count1__max</th>\n",
       "      <th>cardnum-merchnum_count30__max</th>\n",
       "      <th>cardnum-merchnum_count3__max</th>\n",
       "      <th>cardnum-merchnum_count3__sum</th>\n",
       "      <th>Recnum</th>\n",
       "      <th>Fraud</th>\n",
       "    </tr>\n",
       "  </thead>\n",
       "  <tbody>\n",
       "    <tr>\n",
       "      <th>0</th>\n",
       "      <td>-0.510270</td>\n",
       "      <td>-0.497168</td>\n",
       "      <td>-0.507695</td>\n",
       "      <td>-0.252697</td>\n",
       "      <td>-0.542314</td>\n",
       "      <td>-0.461148</td>\n",
       "      <td>-0.187507</td>\n",
       "      <td>-0.482323</td>\n",
       "      <td>-0.155707</td>\n",
       "      <td>-0.504417</td>\n",
       "      <td>...</td>\n",
       "      <td>-0.156323</td>\n",
       "      <td>-0.463631</td>\n",
       "      <td>-0.456162</td>\n",
       "      <td>-0.183189</td>\n",
       "      <td>-0.424413</td>\n",
       "      <td>-0.476666</td>\n",
       "      <td>-0.431276</td>\n",
       "      <td>-0.153873</td>\n",
       "      <td>1</td>\n",
       "      <td>0</td>\n",
       "    </tr>\n",
       "    <tr>\n",
       "      <th>1</th>\n",
       "      <td>-0.482932</td>\n",
       "      <td>-0.469230</td>\n",
       "      <td>-0.483051</td>\n",
       "      <td>-0.246306</td>\n",
       "      <td>-0.519227</td>\n",
       "      <td>-0.434575</td>\n",
       "      <td>-0.180833</td>\n",
       "      <td>-0.456436</td>\n",
       "      <td>-0.148848</td>\n",
       "      <td>-0.481059</td>\n",
       "      <td>...</td>\n",
       "      <td>-0.149486</td>\n",
       "      <td>-0.437273</td>\n",
       "      <td>-0.429515</td>\n",
       "      <td>-0.176517</td>\n",
       "      <td>-0.396893</td>\n",
       "      <td>-0.450565</td>\n",
       "      <td>-0.403872</td>\n",
       "      <td>-0.147028</td>\n",
       "      <td>2</td>\n",
       "      <td>0</td>\n",
       "    </tr>\n",
       "    <tr>\n",
       "      <th>2</th>\n",
       "      <td>-0.338311</td>\n",
       "      <td>-0.321432</td>\n",
       "      <td>-0.352675</td>\n",
       "      <td>-0.212496</td>\n",
       "      <td>-0.397089</td>\n",
       "      <td>-0.293996</td>\n",
       "      <td>-0.145525</td>\n",
       "      <td>-0.319485</td>\n",
       "      <td>-0.112567</td>\n",
       "      <td>-0.357485</td>\n",
       "      <td>...</td>\n",
       "      <td>-0.113311</td>\n",
       "      <td>-0.297837</td>\n",
       "      <td>-0.288542</td>\n",
       "      <td>-0.141221</td>\n",
       "      <td>-0.251301</td>\n",
       "      <td>-0.312484</td>\n",
       "      <td>-0.258899</td>\n",
       "      <td>-0.110819</td>\n",
       "      <td>3</td>\n",
       "      <td>0</td>\n",
       "    </tr>\n",
       "    <tr>\n",
       "      <th>3</th>\n",
       "      <td>-0.510270</td>\n",
       "      <td>-0.497168</td>\n",
       "      <td>-0.507695</td>\n",
       "      <td>-0.251864</td>\n",
       "      <td>-0.542314</td>\n",
       "      <td>-0.461148</td>\n",
       "      <td>-0.187507</td>\n",
       "      <td>-0.482323</td>\n",
       "      <td>-0.155707</td>\n",
       "      <td>-0.504417</td>\n",
       "      <td>...</td>\n",
       "      <td>-0.156323</td>\n",
       "      <td>-0.463631</td>\n",
       "      <td>-0.456162</td>\n",
       "      <td>-0.183189</td>\n",
       "      <td>-0.424413</td>\n",
       "      <td>-0.476666</td>\n",
       "      <td>-0.431276</td>\n",
       "      <td>-0.153873</td>\n",
       "      <td>4</td>\n",
       "      <td>0</td>\n",
       "    </tr>\n",
       "    <tr>\n",
       "      <th>4</th>\n",
       "      <td>-0.510270</td>\n",
       "      <td>-0.497168</td>\n",
       "      <td>-0.507695</td>\n",
       "      <td>-0.251032</td>\n",
       "      <td>-0.542314</td>\n",
       "      <td>-0.461148</td>\n",
       "      <td>-0.186638</td>\n",
       "      <td>-0.482323</td>\n",
       "      <td>-0.154814</td>\n",
       "      <td>-0.504417</td>\n",
       "      <td>...</td>\n",
       "      <td>-0.155433</td>\n",
       "      <td>-0.463631</td>\n",
       "      <td>-0.456162</td>\n",
       "      <td>-0.182320</td>\n",
       "      <td>-0.424413</td>\n",
       "      <td>-0.476666</td>\n",
       "      <td>-0.431276</td>\n",
       "      <td>-0.152981</td>\n",
       "      <td>5</td>\n",
       "      <td>0</td>\n",
       "    </tr>\n",
       "  </tbody>\n",
       "</table>\n",
       "<p>5 rows × 22 columns</p>\n",
       "</div>"
      ],
      "text/plain": [
       "   Merch_description_part_count0__max  Merchnum_count0__max  \\\n",
       "0                           -0.510270             -0.497168   \n",
       "1                           -0.482932             -0.469230   \n",
       "2                           -0.338311             -0.321432   \n",
       "3                           -0.510270             -0.497168   \n",
       "4                           -0.510270             -0.497168   \n",
       "\n",
       "   Merchnum_count1__max  Merchnum_count1__sum  Merchnum_count3__max  \\\n",
       "0             -0.507695             -0.252697             -0.542314   \n",
       "1             -0.483051             -0.246306             -0.519227   \n",
       "2             -0.352675             -0.212496             -0.397089   \n",
       "3             -0.507695             -0.251864             -0.542314   \n",
       "4             -0.507695             -0.251032             -0.542314   \n",
       "\n",
       "   cardnum-merch_description_part_count14__max  \\\n",
       "0                                    -0.461148   \n",
       "1                                    -0.434575   \n",
       "2                                    -0.293996   \n",
       "3                                    -0.461148   \n",
       "4                                    -0.461148   \n",
       "\n",
       "   cardnum-merch_description_part_count14__sum  \\\n",
       "0                                    -0.187507   \n",
       "1                                    -0.180833   \n",
       "2                                    -0.145525   \n",
       "3                                    -0.187507   \n",
       "4                                    -0.186638   \n",
       "\n",
       "   cardnum-merch_description_part_count30__max  \\\n",
       "0                                    -0.482323   \n",
       "1                                    -0.456436   \n",
       "2                                    -0.319485   \n",
       "3                                    -0.482323   \n",
       "4                                    -0.482323   \n",
       "\n",
       "   cardnum-merch_description_part_count3__sum  \\\n",
       "0                                   -0.155707   \n",
       "1                                   -0.148848   \n",
       "2                                   -0.112567   \n",
       "3                                   -0.155707   \n",
       "4                                   -0.154814   \n",
       "\n",
       "   cardnum-merch_state_count14__max  ...  \\\n",
       "0                         -0.504417  ...   \n",
       "1                         -0.481059  ...   \n",
       "2                         -0.357485  ...   \n",
       "3                         -0.504417  ...   \n",
       "4                         -0.504417  ...   \n",
       "\n",
       "   cardnum-merch_state_merch_zip_count3__sum  cardnum-merch_zip_count14__max  \\\n",
       "0                                  -0.156323                       -0.463631   \n",
       "1                                  -0.149486                       -0.437273   \n",
       "2                                  -0.113311                       -0.297837   \n",
       "3                                  -0.156323                       -0.463631   \n",
       "4                                  -0.155433                       -0.463631   \n",
       "\n",
       "   cardnum-merchnum_count14__max  cardnum-merchnum_count14__sum  \\\n",
       "0                      -0.456162                      -0.183189   \n",
       "1                      -0.429515                      -0.176517   \n",
       "2                      -0.288542                      -0.141221   \n",
       "3                      -0.456162                      -0.183189   \n",
       "4                      -0.456162                      -0.182320   \n",
       "\n",
       "   cardnum-merchnum_count1__max  cardnum-merchnum_count30__max  \\\n",
       "0                     -0.424413                      -0.476666   \n",
       "1                     -0.396893                      -0.450565   \n",
       "2                     -0.251301                      -0.312484   \n",
       "3                     -0.424413                      -0.476666   \n",
       "4                     -0.424413                      -0.476666   \n",
       "\n",
       "   cardnum-merchnum_count3__max  cardnum-merchnum_count3__sum  Recnum  Fraud  \n",
       "0                     -0.431276                     -0.153873       1      0  \n",
       "1                     -0.403872                     -0.147028       2      0  \n",
       "2                     -0.258899                     -0.110819       3      0  \n",
       "3                     -0.431276                     -0.153873       4      0  \n",
       "4                     -0.431276                     -0.152981       5      0  \n",
       "\n",
       "[5 rows x 22 columns]"
      ]
     },
     "execution_count": 3,
     "metadata": {},
     "output_type": "execute_result"
    }
   ],
   "source": [
    "data_all.head()"
   ]
  },
  {
   "cell_type": "code",
   "execution_count": 4,
   "metadata": {},
   "outputs": [],
   "source": [
    "flabel=data_all[['Recnum','Fraud']]"
   ]
  },
  {
   "cell_type": "code",
   "execution_count": 5,
   "metadata": {},
   "outputs": [],
   "source": [
    "variables=data_all.drop(['Fraud'],axis=1)"
   ]
  },
  {
   "cell_type": "code",
   "execution_count": 6,
   "metadata": {},
   "outputs": [],
   "source": [
    "variables_train=variables[(variables['Recnum']<=84299)&(variables['Recnum']>=3338)]"
   ]
  },
  {
   "cell_type": "code",
   "execution_count": 7,
   "metadata": {},
   "outputs": [],
   "source": [
    "variables_oot=variables[variables['Recnum']>84299]"
   ]
  },
  {
   "cell_type": "code",
   "execution_count": 8,
   "metadata": {},
   "outputs": [],
   "source": [
    "flabel_train=flabel[(flabel['Recnum']<=84299)&(flabel['Recnum']>=3338)]"
   ]
  },
  {
   "cell_type": "code",
   "execution_count": 9,
   "metadata": {},
   "outputs": [],
   "source": [
    "flabel_oot=flabel[flabel['Recnum']>84299]"
   ]
  },
  {
   "cell_type": "code",
   "execution_count": 10,
   "metadata": {},
   "outputs": [],
   "source": [
    "variables_train=variables_train.drop(['Recnum'],axis=1)"
   ]
  },
  {
   "cell_type": "code",
   "execution_count": 11,
   "metadata": {},
   "outputs": [],
   "source": [
    "variables_oot=variables_oot.drop(['Recnum'],axis=1)"
   ]
  },
  {
   "cell_type": "code",
   "execution_count": 12,
   "metadata": {},
   "outputs": [],
   "source": [
    "flabel_train=flabel_train.drop(['Recnum'],axis=1)"
   ]
  },
  {
   "cell_type": "code",
   "execution_count": 13,
   "metadata": {},
   "outputs": [],
   "source": [
    "flabel_oot=flabel_oot.drop(['Recnum'],axis=1)"
   ]
  },
  {
   "cell_type": "code",
   "execution_count": 14,
   "metadata": {},
   "outputs": [],
   "source": [
    "flabel_train=flabel_train.iloc[:]['Fraud']"
   ]
  },
  {
   "cell_type": "code",
   "execution_count": 15,
   "metadata": {},
   "outputs": [],
   "source": [
    "flabel_oot=flabel_oot.iloc[:]['Fraud']"
   ]
  },
  {
   "cell_type": "code",
   "execution_count": 16,
   "metadata": {},
   "outputs": [],
   "source": [
    "x_train,x_test,y_train,y_test=train_test_split(variables_train,flabel_train,test_size=0.3)"
   ]
  },
  {
   "cell_type": "code",
   "execution_count": 17,
   "metadata": {},
   "outputs": [],
   "source": [
    "def FDR(x,y,model):\n",
    "    pred = model.predict_proba(x)[:,1]\n",
    "    y_df = pd.DataFrame(y)\n",
    "    y_df['pred']=pred\n",
    "    top=int(len(y_df)*0.03)\n",
    "    numbads=sum(y_df['Fraud']==1)\n",
    "    fdr=y_df.sort_values(by='pred',ascending=False).head(top).Fraud.sum()/numbads\n",
    "    return fdr"
   ]
  },
  {
   "cell_type": "code",
   "execution_count": 18,
   "metadata": {},
   "outputs": [],
   "source": [
    "kernal = []\n",
    "C=[]\n",
    "gamma=[]\n",
    "train = []\n",
    "test = []\n",
    "ott = []"
   ]
  },
  {
   "cell_type": "code",
   "execution_count": 19,
   "metadata": {},
   "outputs": [],
   "source": [
    "start = time.time()\n",
    "clf = svm.SVC(kernel='linear',probability=True,C=0.1)\n",
    "clf.fit(x_train, y_train)\n",
    "end = time.time()"
   ]
  },
  {
   "cell_type": "code",
   "execution_count": 20,
   "metadata": {},
   "outputs": [
    {
     "name": "stdout",
     "output_type": "stream",
     "text": [
      "SVM 0.1 30.404056549072266\n"
     ]
    }
   ],
   "source": [
    "C.append(0.1)\n",
    "gamma.append(\"-\")\n",
    "train.append(FDR(x_train,y_train,clf))\n",
    "test.append(FDR(x_test,y_test,clf))\n",
    "ott.append(FDR(variables_oot,flabel_oot,clf))\n",
    "print(\"SVM\",0.1, end-start)"
   ]
  },
  {
   "cell_type": "code",
   "execution_count": 21,
   "metadata": {},
   "outputs": [
    {
     "name": "stdout",
     "output_type": "stream",
     "text": [
      "SVM: linear 1 Time: 38.506187200546265\n",
      "SVM: linear 10 Time: 182.66185855865479\n"
     ]
    }
   ],
   "source": [
    "# linear \n",
    "Cs = [1, 10]\n",
    "for c in Cs:\n",
    "    start = time.time()\n",
    "    clf = svm.SVC(kernel='linear',probability=True,C=c)\n",
    "    clf.fit(x_train, y_train)\n",
    "    end = time.time()\n",
    "    kernal.append(\"linear\")\n",
    "    C.append(c)\n",
    "    gamma.append(\"-\")\n",
    "    train.append(FDR(x_train,y_train,clf))\n",
    "    test.append(FDR(x_test,y_test,clf))\n",
    "    ott.append(FDR(variables_oot,flabel_oot,clf))\n",
    "    print(\"SVM: linear\",c,\"Time:\", end - start)"
   ]
  },
  {
   "cell_type": "code",
   "execution_count": 22,
   "metadata": {},
   "outputs": [],
   "source": [
    "kernal.append(\"linear\")"
   ]
  },
  {
   "cell_type": "code",
   "execution_count": 23,
   "metadata": {},
   "outputs": [],
   "source": [
    "# rbf variable combination\n",
    "Cs = [0.01,1,10]\n",
    "gammas = [\"auto\",\"scale\"]\n",
    "rbf_C_gammas = []\n",
    "for i in Cs:\n",
    "    for j in gammas:\n",
    "        rbf_C_gammas.append((i,j))"
   ]
  },
  {
   "cell_type": "code",
   "execution_count": 24,
   "metadata": {},
   "outputs": [
    {
     "name": "stdout",
     "output_type": "stream",
     "text": [
      "SVM 10 39.9853732585907\n",
      "SVM 10 39.440290689468384\n",
      "SVM 10 46.30721688270569\n",
      "SVM 10 50.87651968002319\n",
      "SVM 10 63.144248723983765\n",
      "SVM 10 61.94950556755066\n"
     ]
    }
   ],
   "source": [
    "# rbf \n",
    "for p in rbf_C_gammas:\n",
    "    start = time.time()\n",
    "    clf = svm.SVC(kernel='rbf', probability=True,C=p[0],gamma=p[1])\n",
    "    clf.fit(x_train, y_train)\n",
    "    end = time.time()\n",
    "    kernal.append(\"rbf\")\n",
    "    C.append(p[0])\n",
    "    gamma.append(p[1])\n",
    "    train.append(FDR(x_train,y_train,clf))\n",
    "    test.append(FDR(x_test,y_test,clf))\n",
    "    ott.append(FDR(variables_oot,flabel_oot,clf))\n",
    "    print(\"SVM\",c, end - start)"
   ]
  },
  {
   "cell_type": "code",
   "execution_count": 25,
   "metadata": {},
   "outputs": [],
   "source": [
    "# poly variable combination\n",
    "Cs = [0.01, 1]\n",
    "gammas = [\"auto\",\"scale\"]\n",
    "rbf_C_gammas = []\n",
    "for i in Cs:\n",
    "    for j in gammas:\n",
    "        rbf_C_gammas.append((i,j))"
   ]
  },
  {
   "cell_type": "code",
   "execution_count": 26,
   "metadata": {},
   "outputs": [
    {
     "name": "stdout",
     "output_type": "stream",
     "text": [
      "SVM 10 29.528841733932495\n",
      "SVM 10 39.942195415496826\n",
      "SVM 10 51.892720222473145\n",
      "SVM 10 191.4522421360016\n"
     ]
    }
   ],
   "source": [
    "# poly\n",
    "for p in rbf_C_gammas:\n",
    "    start = time.time()\n",
    "    clf = svm.SVC(kernel='poly', probability=True,C=p[0],gamma=p[1])\n",
    "    clf.fit(x_train, y_train)\n",
    "    end = time.time()\n",
    "    kernal.append(\"poly\")\n",
    "    C.append(p[0])\n",
    "    gamma.append(p[1])\n",
    "    train.append(FDR(x_train,y_train,clf))\n",
    "    test.append(FDR(x_test,y_test,clf))\n",
    "    ott.append(FDR(variables_oot,flabel_oot,clf))\n",
    "    print(\"SVM\",c, end - start)"
   ]
  },
  {
   "cell_type": "code",
   "execution_count": 27,
   "metadata": {},
   "outputs": [],
   "source": [
    "# sigmoid\n",
    "# for p in rbf_C_gammas:\n",
    "    #start = time.time()\n",
    "    #clf = svm.SVC(kernel='sigmoid', probability=True,C=p[0],gamma=p[1])\n",
    "    #clf.fit(x_train, y_train)\n",
    "    #end = time.time()\n",
    "    #kernal.append(\"sigmoid\")\n",
    "    #C.append(p[0])\n",
    "    #gamma.append(p[1])\n",
    "    #train.append(FDR(x_train,y_train,clf))\n",
    "    #test.append(FDR(x_test,y_test,clf))\n",
    "    #ott.append(FDR(variables_oot,flabel_oot,clf))\n",
    "    #print(\"SVM\",c, end - start)"
   ]
  },
  {
   "cell_type": "code",
   "execution_count": 28,
   "metadata": {},
   "outputs": [],
   "source": [
    "result = pd.DataFrame()\n",
    "result[\"kernal\"] = [\"linear\",\"linear\",\"linear\",\"rbf\",\"rbf\",\"rbf\",\"rbf\",\"rbf\",\"rbf\",\"poly\",\"poly\",\"poly\",\"poly\"]\n",
    "result[\"C\"] = C\n",
    "result[\"gamma\"] = gamma\n",
    "result[\"train\"] = train\n",
    "result[\"test\"] = test\n",
    "result[\"ott\"] = ott"
   ]
  },
  {
   "cell_type": "code",
   "execution_count": 29,
   "metadata": {},
   "outputs": [
    {
     "data": {
      "text/html": [
       "<div>\n",
       "<style scoped>\n",
       "    .dataframe tbody tr th:only-of-type {\n",
       "        vertical-align: middle;\n",
       "    }\n",
       "\n",
       "    .dataframe tbody tr th {\n",
       "        vertical-align: top;\n",
       "    }\n",
       "\n",
       "    .dataframe thead th {\n",
       "        text-align: right;\n",
       "    }\n",
       "</style>\n",
       "<table border=\"1\" class=\"dataframe\">\n",
       "  <thead>\n",
       "    <tr style=\"text-align: right;\">\n",
       "      <th></th>\n",
       "      <th>kernal</th>\n",
       "      <th>C</th>\n",
       "      <th>gamma</th>\n",
       "      <th>train</th>\n",
       "      <th>test</th>\n",
       "      <th>ott</th>\n",
       "    </tr>\n",
       "  </thead>\n",
       "  <tbody>\n",
       "    <tr>\n",
       "      <th>0</th>\n",
       "      <td>linear</td>\n",
       "      <td>0.10</td>\n",
       "      <td>-</td>\n",
       "      <td>0.670588</td>\n",
       "      <td>0.684982</td>\n",
       "      <td>0.357542</td>\n",
       "    </tr>\n",
       "    <tr>\n",
       "      <th>1</th>\n",
       "      <td>linear</td>\n",
       "      <td>1.00</td>\n",
       "      <td>-</td>\n",
       "      <td>0.668908</td>\n",
       "      <td>0.695971</td>\n",
       "      <td>0.351955</td>\n",
       "    </tr>\n",
       "    <tr>\n",
       "      <th>2</th>\n",
       "      <td>linear</td>\n",
       "      <td>10.00</td>\n",
       "      <td>-</td>\n",
       "      <td>0.667227</td>\n",
       "      <td>0.695971</td>\n",
       "      <td>0.346369</td>\n",
       "    </tr>\n",
       "    <tr>\n",
       "      <th>3</th>\n",
       "      <td>rbf</td>\n",
       "      <td>0.01</td>\n",
       "      <td>auto</td>\n",
       "      <td>0.640336</td>\n",
       "      <td>0.619048</td>\n",
       "      <td>0.525140</td>\n",
       "    </tr>\n",
       "    <tr>\n",
       "      <th>4</th>\n",
       "      <td>rbf</td>\n",
       "      <td>0.01</td>\n",
       "      <td>scale</td>\n",
       "      <td>0.658824</td>\n",
       "      <td>0.604396</td>\n",
       "      <td>0.480447</td>\n",
       "    </tr>\n",
       "    <tr>\n",
       "      <th>5</th>\n",
       "      <td>rbf</td>\n",
       "      <td>1.00</td>\n",
       "      <td>auto</td>\n",
       "      <td>0.675630</td>\n",
       "      <td>0.637363</td>\n",
       "      <td>0.480447</td>\n",
       "    </tr>\n",
       "    <tr>\n",
       "      <th>6</th>\n",
       "      <td>rbf</td>\n",
       "      <td>1.00</td>\n",
       "      <td>scale</td>\n",
       "      <td>0.736134</td>\n",
       "      <td>0.703297</td>\n",
       "      <td>0.525140</td>\n",
       "    </tr>\n",
       "    <tr>\n",
       "      <th>7</th>\n",
       "      <td>rbf</td>\n",
       "      <td>10.00</td>\n",
       "      <td>auto</td>\n",
       "      <td>0.710924</td>\n",
       "      <td>0.644689</td>\n",
       "      <td>0.463687</td>\n",
       "    </tr>\n",
       "    <tr>\n",
       "      <th>8</th>\n",
       "      <td>rbf</td>\n",
       "      <td>10.00</td>\n",
       "      <td>scale</td>\n",
       "      <td>0.784874</td>\n",
       "      <td>0.750916</td>\n",
       "      <td>0.536313</td>\n",
       "    </tr>\n",
       "    <tr>\n",
       "      <th>9</th>\n",
       "      <td>poly</td>\n",
       "      <td>0.01</td>\n",
       "      <td>auto</td>\n",
       "      <td>0.658824</td>\n",
       "      <td>0.663004</td>\n",
       "      <td>0.312849</td>\n",
       "    </tr>\n",
       "    <tr>\n",
       "      <th>10</th>\n",
       "      <td>poly</td>\n",
       "      <td>0.01</td>\n",
       "      <td>scale</td>\n",
       "      <td>0.653782</td>\n",
       "      <td>0.633700</td>\n",
       "      <td>0.245810</td>\n",
       "    </tr>\n",
       "    <tr>\n",
       "      <th>11</th>\n",
       "      <td>poly</td>\n",
       "      <td>1.00</td>\n",
       "      <td>auto</td>\n",
       "      <td>0.638655</td>\n",
       "      <td>0.615385</td>\n",
       "      <td>0.162011</td>\n",
       "    </tr>\n",
       "    <tr>\n",
       "      <th>12</th>\n",
       "      <td>poly</td>\n",
       "      <td>1.00</td>\n",
       "      <td>scale</td>\n",
       "      <td>0.658824</td>\n",
       "      <td>0.619048</td>\n",
       "      <td>0.251397</td>\n",
       "    </tr>\n",
       "  </tbody>\n",
       "</table>\n",
       "</div>"
      ],
      "text/plain": [
       "    kernal      C  gamma     train      test       ott\n",
       "0   linear   0.10      -  0.670588  0.684982  0.357542\n",
       "1   linear   1.00      -  0.668908  0.695971  0.351955\n",
       "2   linear  10.00      -  0.667227  0.695971  0.346369\n",
       "3      rbf   0.01   auto  0.640336  0.619048  0.525140\n",
       "4      rbf   0.01  scale  0.658824  0.604396  0.480447\n",
       "5      rbf   1.00   auto  0.675630  0.637363  0.480447\n",
       "6      rbf   1.00  scale  0.736134  0.703297  0.525140\n",
       "7      rbf  10.00   auto  0.710924  0.644689  0.463687\n",
       "8      rbf  10.00  scale  0.784874  0.750916  0.536313\n",
       "9     poly   0.01   auto  0.658824  0.663004  0.312849\n",
       "10    poly   0.01  scale  0.653782  0.633700  0.245810\n",
       "11    poly   1.00   auto  0.638655  0.615385  0.162011\n",
       "12    poly   1.00  scale  0.658824  0.619048  0.251397"
      ]
     },
     "execution_count": 29,
     "metadata": {},
     "output_type": "execute_result"
    }
   ],
   "source": [
    "result"
   ]
  },
  {
   "cell_type": "code",
   "execution_count": 30,
   "metadata": {},
   "outputs": [],
   "source": [
    "result.to_csv(\"svm_result.csv\")"
   ]
  }
 ],
 "metadata": {
  "kernelspec": {
   "display_name": "Python 3",
   "language": "python",
   "name": "python3"
  },
  "language_info": {
   "codemirror_mode": {
    "name": "ipython",
    "version": 3
   },
   "file_extension": ".py",
   "mimetype": "text/x-python",
   "name": "python",
   "nbconvert_exporter": "python",
   "pygments_lexer": "ipython3",
   "version": "3.7.5"
  }
 },
 "nbformat": 4,
 "nbformat_minor": 4
}
