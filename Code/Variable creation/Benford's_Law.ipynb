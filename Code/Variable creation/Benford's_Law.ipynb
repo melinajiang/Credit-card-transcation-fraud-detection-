{
 "cells": [
  {
   "cell_type": "code",
   "execution_count": 1,
   "metadata": {},
   "outputs": [],
   "source": [
    "import pandas as pd\n",
    "import numpy as np"
   ]
  },
  {
   "cell_type": "code",
   "execution_count": null,
   "metadata": {},
   "outputs": [],
   "source": [
    "df = pd.read_excel('no_missing.xlsx', converters={'Merchnum': lambda x: str(x), 'Merch_zip': lambda x : str(x)})"
   ]
  },
  {
   "cell_type": "code",
   "execution_count": null,
   "metadata": {},
   "outputs": [],
   "source": [
    "df = df.drop(['Unnamed: 0','assign','minus'],axis = 1)"
   ]
  },
  {
   "cell_type": "code",
   "execution_count": null,
   "metadata": {},
   "outputs": [],
   "source": [
    "df.info()"
   ]
  },
  {
   "cell_type": "markdown",
   "metadata": {},
   "source": [
    "## 1. Benford's Law Variable for merchnum and cardnum"
   ]
  },
  {
   "cell_type": "code",
   "execution_count": null,
   "metadata": {},
   "outputs": [],
   "source": [
    "old = df.copy()"
   ]
  },
  {
   "cell_type": "code",
   "execution_count": null,
   "metadata": {},
   "outputs": [],
   "source": [
    "old['stramount'] = old['Amount'].astype('str')"
   ]
  },
  {
   "cell_type": "code",
   "execution_count": null,
   "metadata": {},
   "outputs": [],
   "source": [
    "old['stramount'] = old['stramount'].str.replace('.','')\n",
    "old['stramount'] = old['stramount'].astype(int).astype('str')"
   ]
  },
  {
   "cell_type": "code",
   "execution_count": null,
   "metadata": {},
   "outputs": [],
   "source": [
    "old[old['stramount'].str.startswith('0')]"
   ]
  },
  {
   "cell_type": "code",
   "execution_count": null,
   "metadata": {},
   "outputs": [],
   "source": [
    "old['Merch_description'] = old['Merch_description'].str.lower()"
   ]
  },
  {
   "cell_type": "code",
   "execution_count": null,
   "metadata": {},
   "outputs": [],
   "source": [
    "old = old[~old['Merch_description'].str.contains('fedex')]"
   ]
  },
  {
   "cell_type": "code",
   "execution_count": null,
   "metadata": {},
   "outputs": [],
   "source": [
    "old['digit_1'] = old['stramount'].str[0]"
   ]
  },
  {
   "cell_type": "code",
   "execution_count": null,
   "metadata": {},
   "outputs": [],
   "source": [
    "old['digit_1'] = old['digit_1'].astype(int)"
   ]
  },
  {
   "cell_type": "code",
   "execution_count": null,
   "metadata": {},
   "outputs": [],
   "source": [
    "old = old[['Recnum','Merchnum','Cardnum','digit_1']]"
   ]
  },
  {
   "cell_type": "code",
   "execution_count": null,
   "metadata": {},
   "outputs": [],
   "source": [
    "old['n_low'] = old['digit_1'] <= 2\n",
    "old['n_high'] = old['digit_1'] > 2"
   ]
  },
  {
   "cell_type": "code",
   "execution_count": null,
   "metadata": {},
   "outputs": [],
   "source": [
    "new_card = old[['Recnum','Cardnum']]\n",
    "new_merch = old[['Recnum','Merchnum']]"
   ]
  },
  {
   "cell_type": "markdown",
   "metadata": {},
   "source": [
    "### 1.1 For each Cardnum"
   ]
  },
  {
   "cell_type": "code",
   "execution_count": null,
   "metadata": {},
   "outputs": [],
   "source": [
    "benford_card = pd.merge(new_card, old, left_on = 'Cardnum', right_on = 'Cardnum')"
   ]
  },
  {
   "cell_type": "code",
   "execution_count": null,
   "metadata": {},
   "outputs": [],
   "source": [
    "benford_card = benford_card[benford_card['Recnum_x'] >= benford_card['Recnum_y']]"
   ]
  },
  {
   "cell_type": "code",
   "execution_count": null,
   "metadata": {},
   "outputs": [],
   "source": [
    "benford_card.head()"
   ]
  },
  {
   "cell_type": "code",
   "execution_count": null,
   "metadata": {},
   "outputs": [],
   "source": [
    "benford_card = benford_card.groupby(['Recnum_x','Cardnum']).agg({'n_low':'sum','n_high':'sum'})"
   ]
  },
  {
   "cell_type": "code",
   "execution_count": null,
   "metadata": {},
   "outputs": [],
   "source": [
    "benford_card.loc[(235,5142183973),]"
   ]
  },
  {
   "cell_type": "code",
   "execution_count": null,
   "metadata": {},
   "outputs": [],
   "source": [
    "benford_card.head()"
   ]
  },
  {
   "cell_type": "code",
   "execution_count": null,
   "metadata": {},
   "outputs": [],
   "source": [
    "c = 3\n",
    "n_mid = 15"
   ]
  },
  {
   "cell_type": "code",
   "execution_count": null,
   "metadata": {},
   "outputs": [],
   "source": [
    "benford_card['n_low'] = benford_card['n_low'].replace(0,1)\n",
    "benford_card['n_high'] = benford_card['n_high'].replace(0,1)\n",
    "benford_card['n'] = benford_card['n_low'] + benford_card['n_high']\n",
    "benford_card['R'] = benford_card['n_low']/benford_card['n_high'] *1.096\n",
    "benford_card['1/R'] = 1/benford_card['R']\n",
    "benford_card['t'] = (benford_card['n'] - n_mid)/c\n",
    "benford_card['U']  = benford_card[['R','1/R']].max(axis = 1)\n",
    "benford_card['U_star_card'] = (benford_card['U'] -1)/(1+np.exp(-benford_card['t'])) +1"
   ]
  },
  {
   "cell_type": "code",
   "execution_count": null,
   "metadata": {},
   "outputs": [],
   "source": [
    "benford_card = benford_card.reset_index()"
   ]
  },
  {
   "cell_type": "code",
   "execution_count": null,
   "metadata": {},
   "outputs": [],
   "source": [
    "benford_card"
   ]
  },
  {
   "cell_type": "markdown",
   "metadata": {},
   "source": [
    "### 1.2 For each Merchnum"
   ]
  },
  {
   "cell_type": "code",
   "execution_count": null,
   "metadata": {},
   "outputs": [],
   "source": [
    "benford_merch = pd.merge(new_merch, old, left_on = 'Merchnum', right_on = 'Merchnum')\n",
    "benford_merch = benford_merch[benford_merch['Recnum_x'] >= benford_merch['Recnum_y']]\n",
    "benford_merch = benford_merch.groupby(['Recnum_x','Merchnum']).agg({'n_low':'sum','n_high':'sum'})\n",
    "benford_merch['n_low'] = benford_merch['n_low'].replace(0,1)\n",
    "benford_merch['n_high'] = benford_merch['n_high'].replace(0,1)\n",
    "benford_merch['n'] = benford_merch['n_low'] + benford_merch['n_high']\n",
    "benford_merch['R'] = benford_merch['n_low']/benford_merch['n_high'] *1.096\n",
    "benford_merch['1/R'] = 1/benford_merch['R']\n",
    "benford_merch['t'] = (benford_merch['n'] - n_mid)/c\n",
    "benford_merch['U']  = benford_merch[['R','1/R']].max(axis = 1)\n",
    "benford_merch['U_star_merch'] = (benford_merch['U'] -1)/(1+np.exp(-benford_merch['t'])) +1\n",
    "benford_merch = benford_merch.reset_index()"
   ]
  },
  {
   "cell_type": "code",
   "execution_count": null,
   "metadata": {},
   "outputs": [],
   "source": [
    "benford_merch"
   ]
  },
  {
   "cell_type": "code",
   "execution_count": null,
   "metadata": {},
   "outputs": [],
   "source": [
    "benford_value = pd.merge(benford_card[['Recnum_x','U_star_card']], benford_merch[['Recnum_x','U_star_merch']], left_on = 'Recnum_x', right_on = 'Recnum_x')"
   ]
  },
  {
   "cell_type": "code",
   "execution_count": null,
   "metadata": {},
   "outputs": [],
   "source": [
    "benford_value.columns = ['Recnum','U_star_card','U_star_merch']"
   ]
  },
  {
   "cell_type": "code",
   "execution_count": null,
   "metadata": {},
   "outputs": [],
   "source": [
    "benford_value = benford_value.set_index('Recnum')"
   ]
  },
  {
   "cell_type": "code",
   "execution_count": null,
   "metadata": {},
   "outputs": [],
   "source": [
    "benford = df[['Recnum']].set_index('Recnum')"
   ]
  },
  {
   "cell_type": "code",
   "execution_count": null,
   "metadata": {},
   "outputs": [],
   "source": [
    "benford = pd.merge(benford, benford_value, left_index = True, right_index = True, how = 'left')"
   ]
  },
  {
   "cell_type": "code",
   "execution_count": null,
   "metadata": {},
   "outputs": [],
   "source": [
    "benford['U_star_card'] = benford['U_star_card'].fillna(1)\n",
    "benford['U_star_merch'] = benford['U_star_merch'].fillna(1)"
   ]
  },
  {
   "cell_type": "code",
   "execution_count": null,
   "metadata": {},
   "outputs": [],
   "source": [
    "benford"
   ]
  },
  {
   "cell_type": "code",
   "execution_count": null,
   "metadata": {},
   "outputs": [],
   "source": []
  }
 ],
 "metadata": {
  "kernelspec": {
   "display_name": "Python 3",
   "language": "python",
   "name": "python3"
  },
  "language_info": {
   "codemirror_mode": {
    "name": "ipython",
    "version": 3
   },
   "file_extension": ".py",
   "mimetype": "text/x-python",
   "name": "python",
   "nbconvert_exporter": "python",
   "pygments_lexer": "ipython3",
   "version": "3.7.6"
  }
 },
 "nbformat": 4,
 "nbformat_minor": 4
}
